{
 "cells": [
  {
   "cell_type": "markdown",
   "metadata": {},
   "source": [
    "## 人工智能编程基础（试学班）\n",
    "\n",
    "## 项目：我的微信好友\n",
    "\n",
    "在这个notebook文件中，有些模板代码已经提供给你，但你还需要实现更多的功能来完成这个项目。除非有明确要求，你无须修改任何已给出的代码。以**'(练习)'**开始的标题表示接下来的代码部分中有你需要实现的功能。这些部分都配有详细的指导，需要实现的部分也会在注释中以'TODO'标出。请仔细阅读所有的提示。\n",
    "\n",
    "除了实现代码外，你还**需要**回答一些与项目及代码相关的问题。每个需要回答的问题都会以 **'问题 X'** 标记。请仔细阅读每个问题，并且在问题后的 **'回答'** 部分写出完整的答案。我们将根据 你对问题的回答 和 撰写代码实现的功能 来对你提交的项目进行评分。\n",
    "\n",
    ">**提示：**Code 和 Markdown 区域可通过 **Shift + Enter** 快捷键运行。此外，Markdown可以通过双击进入编辑模式。\n",
    "\n",
    "---\n",
    "\n",
    "### 让我们开始吧\n",
    "\n",
    "在这个项目中，你将读取微信好友数据，并做一些有趣的统计和分析:P\n",
    "\n",
    "### 项目内容\n",
    "\n",
    "我们将这个notebook分为不同的步骤，你将完成以下5个任务：\n",
    "\n",
    "**任务0 - 读取数据**\n",
    "\n",
    "**任务1 - 统计微信好友的男女比例**\n",
    "\n",
    "**任务2 - 分析微信好友的地域分布**\n",
    "\n",
    "**任务3 - 生成微信好友的签名词云图**\n",
    "\n",
    "**任务4 - 对签名进行情感分析**"
   ]
  },
  {
   "cell_type": "code",
   "execution_count": 2,
   "metadata": {},
   "outputs": [
    {
     "name": "stdout",
     "output_type": "stream",
     "text": [
      "Collecting msgpack (from -r requirements.txt (line 1))\n",
      "  Downloading https://files.pythonhosted.org/packages/22/4e/dcf124fd97e5f5611123d6ad9f40ffd6eb979d1efdc1049e28a795672fcd/msgpack-0.5.6-cp36-cp36m-manylinux1_x86_64.whl (315kB)\n",
      "\u001b[K    100% |████████████████████████████████| 317kB 1.5MB/s ta 0:00:01\n",
      "\u001b[?25hCollecting pinyin (from -r requirements.txt (line 2))\n",
      "  Downloading https://files.pythonhosted.org/packages/32/95/d2969f1071b7bc0afff407d1d7b4b3f445e8e6b59df7921c9c09e35ee375/pinyin-0.4.0.tar.gz (3.6MB)\n",
      "\u001b[K    100% |████████████████████████████████| 3.6MB 150kB/s eta 0:00:01   21% |███████                         | 798kB 7.7MB/s eta 0:00:01\n",
      "\u001b[?25hCollecting SnowNLP (from -r requirements.txt (line 3))\n",
      "  Downloading https://files.pythonhosted.org/packages/3d/b3/37567686662100d3bce62d3b0f2adec18ab4b9ff2b61abd7a61c39343c1d/snownlp-0.12.3.tar.gz (37.6MB)\n",
      "\u001b[K    100% |████████████████████████████████| 37.6MB 16kB/s  eta 0:00:01  6% |██▎                             | 2.6MB 25.0MB/s eta 0:00:02    13% |████▎                           | 5.1MB 29.6MB/s eta 0:00:02    23% |███████▍                        | 8.7MB 26.2MB/s eta 0:00:02    26% |████████▍                       | 9.9MB 29.6MB/s eta 0:00:01    29% |█████████▍                      | 11.0MB 22.2MB/s eta 0:00:02    32% |██████████▌                     | 12.3MB 26.8MB/s eta 0:00:01    38% |████████████▎                   | 14.4MB 17.3MB/s eta 0:00:02    53% |█████████████████               | 19.9MB 22.8MB/s eta 0:00:01    55% |██████████████████              | 21.0MB 23.8MB/s eta 0:00:01    64% |████████████████████▊           | 24.3MB 25.9MB/s eta 0:00:01    67% |█████████████████████▊          | 25.5MB 22.0MB/s eta 0:00:01    70% |██████████████████████▋         | 26.6MB 21.9MB/s eta 0:00:01    78% |█████████████████████████▎      | 29.7MB 22.5MB/s eta 0:00:01    81% |██████████████████████████▏     | 30.7MB 18.9MB/s eta 0:00:01    87% |████████████████████████████    | 32.8MB 23.1MB/s eta 0:00:01    92% |█████████████████████████████▌  | 34.7MB 14.3MB/s eta 0:00:01\n",
      "\u001b[?25hCollecting jieba (from -r requirements.txt (line 4))\n",
      "  Downloading https://files.pythonhosted.org/packages/71/46/c6f9179f73b818d5827202ad1c4a94e371a29473b7f043b736b4dab6b8cd/jieba-0.39.zip (7.3MB)\n",
      "\u001b[K    100% |████████████████████████████████| 7.3MB 92kB/s  eta 0:00:01   6% |██                              | 450kB 21.5MB/s eta 0:00:01    21% |██████▉                         | 1.6MB 16.3MB/s eta 0:00:01    88% |████████████████████████████▍   | 6.5MB 25.2MB/s eta 0:00:01\n",
      "\u001b[?25hBuilding wheels for collected packages: pinyin, SnowNLP, jieba\n",
      "  Running setup.py bdist_wheel for pinyin ... \u001b[?25ldone\n",
      "\u001b[?25h  Stored in directory: /root/.cache/pip/wheels/bd/90/5a/e9844998f3e67b29c5bbca9dc20b5c76f936a45ea77f78e4a9\n",
      "  Running setup.py bdist_wheel for SnowNLP ... \u001b[?25ldone\n",
      "\u001b[?25h  Stored in directory: /root/.cache/pip/wheels/f3/81/25/7c197493bd7daf177016f1a951c5c3a53b1c7e9339fd11ec8f\n",
      "  Running setup.py bdist_wheel for jieba ... \u001b[?25ldone\n",
      "\u001b[?25h  Stored in directory: /root/.cache/pip/wheels/c9/c7/63/a9ec0322ccc7c365fd51e475942a82395807186e94f0522243\n",
      "Successfully built pinyin SnowNLP jieba\n",
      "Installing collected packages: msgpack, pinyin, SnowNLP, jieba\n",
      "Successfully installed SnowNLP-0.12.3 jieba-0.39 msgpack-0.5.6 pinyin-0.4.0\n",
      "\u001b[33mYou are using pip version 9.0.1, however version 18.0 is available.\n",
      "You should consider upgrading via the 'pip install --upgrade pip' command.\u001b[0m\n",
      "Fetching package metadata .............\n",
      "Solving package specifications: .\n",
      "\n",
      "Package plan for installation in environment /opt/conda:\n",
      "\n",
      "The following packages will be UPDATED:\n",
      "\n",
      "    opencv:       3.2.0-np112py36_blas_openblas_203  conda-forge [blas_openblas] --> 3.4.1-py36h40b0b35_1        defaults\n",
      "    scipy:        0.19.1-py36_blas_openblas_202      conda-forge [blas_openblas] --> 1.1.0-py36_nomklh9c1e066_0  defaults [nomkl]\n",
      "\n",
      "The following packages will be SUPERSEDED by a higher-priority channel:\n",
      "\n",
      "    pytorch:      0.4.0-py36_cuda8.0.61_cudnn7.1.2_1 pytorch     --> 0.1.12-py36_nomkl_0         defaults [nomkl]\n",
      "    torchvision:  0.2.1-py36_1                       pytorch     --> 0.1.8-py36_0                defaults\n",
      "\n",
      "The following packages will be DOWNGRADED:\n",
      "\n",
      "    blas:         1.1-openblas                       conda-forge --> 1.0-openblas                defaults\n",
      "    numpy:        1.12.1-py36_blas_openblas_200      conda-forge [blas_openblas] --> 1.12.1-py36_nomkl_0         defaults [nomkl]\n",
      "    scikit-learn: 0.19.1-py36_blas_openblas_200      conda-forge [blas_openblas] --> 0.19.1-py36_nomklh6cfcb94_0 defaults [nomkl]\n",
      "\n",
      "blas-1.0-openb 100% |################################| Time: 0:00:00   2.48 MB/s\n",
      "numpy-1.12.1-p 100% |################################| Time: 0:00:00  16.25 MB/s\n",
      "opencv-3.4.1-p 100% |################################| Time: 0:00:00   8.37 MB/s\n",
      "scipy-1.1.0-py 100% |################################| Time: 0:00:00  34.50 MB/s\n",
      "pytorch-0.1.12 100% |################################| Time: 0:00:00  34.87 MB/s\n",
      "scikit-learn-0 100% |################################| Time: 0:00:00  34.24 MB/s\n",
      "torchvision-0. 100% |################################| Time: 0:00:00  22.98 MB/s\n"
     ]
    }
   ],
   "source": [
    "### 配置环境，安装项目所需package，此部分代码只需运行一次即可\n",
    "### 无需修改以下代码\n",
    "!pip install -r requirements.txt\n",
    "!conda install -c conda-forge wordcloud --y"
   ]
  },
  {
   "cell_type": "markdown",
   "metadata": {},
   "source": [
    "---\n",
    "\n",
    "## 任务0. 登陆并发送打招呼信息\n",
    "\n",
    "### 导入项目所需包"
   ]
  },
  {
   "cell_type": "code",
   "execution_count": 14,
   "metadata": {},
   "outputs": [
    {
     "name": "stdout",
     "output_type": "stream",
     "text": [
      "所有库导入成功！\n"
     ]
    }
   ],
   "source": [
    "### 以下内容无需改动，直接运行即可\n",
    "# 导入项目中所需要的包\n",
    "import pandas as pd\n",
    "import re\n",
    "import os \n",
    "import numpy as np\n",
    "import pinyin\n",
    "import matplotlib.pyplot as plt\n",
    "%matplotlib inline\n",
    "\n",
    "print(\"所有库导入成功！\")"
   ]
  },
  {
   "cell_type": "markdown",
   "metadata": {},
   "source": [
    "---\n",
    "**注意：在教室中，我们仅提供假数据来完成项目，如果您倾向于探索自己微信好友的数据，您可以前往此[链接](https://github.com/udacity/AIPND-cn-trial)下载文件，并在本地运行。**"
   ]
  },
  {
   "cell_type": "code",
   "execution_count": 15,
   "metadata": {},
   "outputs": [],
   "source": [
    "### 以下内容无需改动，直接运行即可\n",
    "# 读取数据\n",
    "dataset = pd.read_csv('wechat_friends.csv').fillna('').to_dict('records')"
   ]
  },
  {
   "cell_type": "markdown",
   "metadata": {},
   "source": [
    "---"
   ]
  },
  {
   "cell_type": "markdown",
   "metadata": {},
   "source": [
    "---\n",
    "\n",
    "## 任务1. 好友男女比例"
   ]
  },
  {
   "cell_type": "markdown",
   "metadata": {},
   "source": [
    "根据我们希望探索的问题，需要从数据集中取出以下几个部分：\n",
    "- NickName：微信昵称\n",
    "- Sex：性别，1表示男性，2表示女性\n",
    "- Province：省份\n",
    "- City：城市\n",
    "- Signature：微信签名"
   ]
  },
  {
   "cell_type": "markdown",
   "metadata": {},
   "source": [
    "### 练习：打印数据\n",
    "* 打印`dataset`的数据类型\n",
    "* 打印`dataset`中的第一条数据，以及其数据类型。\n",
    "* 打印`dataset`中第一条数据的微信昵称"
   ]
  },
  {
   "cell_type": "code",
   "execution_count": 5,
   "metadata": {},
   "outputs": [
    {
     "name": "stdout",
     "output_type": "stream",
     "text": [
      "<class 'list'>\n"
     ]
    }
   ],
   "source": [
    "### TODO：打印dataset的数据类型\n",
    "print(type(dataset))"
   ]
  },
  {
   "cell_type": "code",
   "execution_count": 6,
   "metadata": {},
   "outputs": [
    {
     "name": "stdout",
     "output_type": "stream",
     "text": [
      "{'NickName': 'Myself', 'Province': '江苏', 'City': '南京', 'Sex': 2.0, 'Signature': 'Enjoy<span class=\"emoji emoji1f49d\"></span>'}\n",
      "<class 'dict'>\n"
     ]
    }
   ],
   "source": [
    "### TODO：打印第一条数据及数据类型\n",
    "print(dataset[0])\n",
    "print(type(dataset[0]))"
   ]
  },
  {
   "cell_type": "code",
   "execution_count": 7,
   "metadata": {},
   "outputs": [
    {
     "name": "stdout",
     "output_type": "stream",
     "text": [
      "Myself\n"
     ]
    }
   ],
   "source": [
    "### TODO：打印第一条数据的微信昵称\n",
    "print(dataset[0]['NickName'])"
   ]
  },
  {
   "cell_type": "markdown",
   "metadata": {},
   "source": [
    "### **问题2**\n",
    "dataset的数据类型是什么？dataset中第一条数据的数据类型呢？根据你的理解，这两种数据类型的区别是什么？"
   ]
  },
  {
   "cell_type": "markdown",
   "metadata": {},
   "source": [
    "1.list列表；2.dict字典；3.列表有序，按元素存（元素也可以是其他数据类型），查找插入删除随着列表规模增加而增加 而字典是无序，按键值对（key:value)存，查找插入删除操作更快"
   ]
  },
  {
   "cell_type": "markdown",
   "metadata": {},
   "source": [
    "### 练习：统计男女比例\n",
    "- 统计好友性别，分为男性、女性与未知三种，赋值到已经定义好的`sex`字典中。\n",
    "\n",
    "提示：\n",
    "- `dataset`中1表示男性、2表示女性；\n",
    "- *注意*：数据需要从第1条开始计算，因为**第0条是自己**。"
   ]
  },
  {
   "cell_type": "code",
   "execution_count": 8,
   "metadata": {},
   "outputs": [],
   "source": [
    "# TODO：统计好友性别\n",
    "sex = {\n",
    "    'male': 0,\n",
    "    'female': 0,\n",
    "    'unknown': 0\n",
    "}\n",
    "# 性别判断函数：sex_dete 形参：x 实参：Sex键对应的值 格式已修改 注意了缩进\n",
    "def sex_dete(x): \n",
    "    if x == 1.0:\n",
    "        sex['male'] += 1\n",
    "    elif x == 2.0:\n",
    "        sex['female'] += 1\n",
    "    else:\n",
    "        sex['unknown'] += 1\n",
    "# 遍历dataset来判断性别\n",
    "for i in range(1,len(dataset)):\n",
    "    sex_dete(dataset[i]['Sex'])"
   ]
  },
  {
   "cell_type": "code",
   "execution_count": 9,
   "metadata": {},
   "outputs": [
    {
     "name": "stdout",
     "output_type": "stream",
     "text": [
      "我的好友中共有 77 位男性、 23 位女性，有 9 位好友未填写。\n"
     ]
    }
   ],
   "source": [
    "### 以下内容无需改动，直接运行即可\n",
    "print(\"我的好友中共有\", sex['male'],\"位男性、\", sex['female'], \"位女性，有\", sex['unknown'], \"位好友未填写。\")"
   ]
  },
  {
   "cell_type": "code",
   "execution_count": 10,
   "metadata": {},
   "outputs": [
    {
     "data": {
      "image/png": "[encoded data removed]",
      "text/plain": [
       "<matplotlib.figure.Figure at 0x7fbdb8330898>"
      ]
     },
     "metadata": {},
     "output_type": "display_data"
    }
   ],
   "source": [
    "### 以下内容无需改动，直接运行即可\n",
    "plt.figure(figsize=(8,5), dpi=80)\n",
    "plt.axes(aspect=1) \n",
    "plt.pie([sex['male'], sex['female'], sex['unknown']],\n",
    "        labels=['Male','Female','Unknown'],\n",
    "        labeldistance = 1.1,\n",
    "        autopct = '%3.1f%%',\n",
    "        shadow = False,\n",
    "        startangle = 90,\n",
    "        pctdistance = 0.6 \n",
    ")\n",
    "\n",
    "plt.legend(loc='upper left',)\n",
    "plt.title(\"My Wechat Friends' Sex Ratio\")\n",
    "plt.show()"
   ]
  },
  {
   "cell_type": "markdown",
   "metadata": {},
   "source": [
    "这段代码的作用是绘制饼图，是不是很有趣？\n",
    "\n",
    "**饼状图**是一种常见的单变量图形，用于描绘分类变量级别的相对频率。饼图中的频率用圆形的扇区表示：角度或面积越大，该分类值就越常见。\n",
    "\n",
    "在「人工智能编程基础」这门课的第二章节中，将讲解如何使用`matplotlib`和`seaborn`绘制各种统计图表，进行数据可视化。\n",
    "\n",
    "---"
   ]
  },
  {
   "cell_type": "markdown",
   "metadata": {},
   "source": [
    "## 任务2. 好友地域分布\n",
    "### 练习：统计好友省份\n",
    "使用`list`中`append()`方法将好友省份添加至`province`中，注意**要去除空的字符串**\n",
    "\n",
    "提示：可以用`for`循环实现\n",
    "\n",
    "*注意*：数据需要从第1条开始计算，因为**第0条是自己**。"
   ]
  },
  {
   "cell_type": "code",
   "execution_count": 11,
   "metadata": {
    "scrolled": true
   },
   "outputs": [],
   "source": [
    "### TODO：将好友所在省份（不为空）添加到 province 中\n",
    "# 这里根据上次审阅建议使用 列表推导式 生成province 没有使用append()方法插入\n",
    "# 相对原本多行 这次仅一行 似乎更简洁？我感觉是不是有点太长了...?\n",
    "province = [dataset[i]['Province'] for i in range(1,len(dataset)) if dataset[i]['Province'] != '']"
   ]
  },
  {
   "cell_type": "code",
   "execution_count": 12,
   "metadata": {},
   "outputs": [],
   "source": [
    "### 以下内容无需修改，直接运行即可\n",
    "province = [pinyin.get(i, format=\"strip\", delimiter=\"\") for i in province if i != '']"
   ]
  },
  {
   "cell_type": "code",
   "execution_count": 13,
   "metadata": {},
   "outputs": [
    {
     "data": {
      "text/plain": [
       "<matplotlib.axes._subplots.AxesSubplot at 0x7fbdb6241860>"
      ]
     },
     "execution_count": 13,
     "metadata": {},
     "output_type": "execute_result"
    },
    {
     "data": {
      "image/png": "[encoded data removed]",
      "text/plain": [
       "<matplotlib.figure.Figure at 0x7fbdb62a1e10>"
      ]
     },
     "metadata": {},
     "output_type": "display_data"
    }
   ],
   "source": [
    "### 以下内容无需修改，直接运行即可\n",
    "province = pd.DataFrame(province)\n",
    "province.columns = ['Province']\n",
    "province['Number of Friends'] = 1\n",
    "province.groupby('Province').sum().sort_values('Number of Friends', ascending=False)[:10].plot.bar()"
   ]
  },
  {
   "cell_type": "markdown",
   "metadata": {},
   "source": [
    "**条形图**用于描述分类变量的分布情况。在条形图中，分类变量的每个级别用长条表示，高度表示数据在该级别的出现频率。"
   ]
  },
  {
   "cell_type": "markdown",
   "metadata": {},
   "source": [
    "---\n",
    "\n",
    "## 任务3. 生成好友个性签名词云图\n",
    "\n",
    "在这里我们希望生成词云，只需要调用第三方库即可，Python有大量的库可以使用，能极大提高开发效率，是编程入门的绝佳选择。\n",
    "\n",
    "### 练习：打印个性签名\n",
    "* 使用`print()`语句打印出最长的3个个性签名"
   ]
  },
  {
   "cell_type": "code",
   "execution_count": 28,
   "metadata": {},
   "outputs": [
    {
     "name": "stdout",
     "output_type": "stream",
     "text": [
      "第 1 长的签名是： 除了努力之外就还是努力<span class=\"emoji emoji1f4aa\"></span>\n",
      "第 2 长的签名是： I am tired of reading stories about great men.\n",
      "第 3 长的签名是： I will love you with every beat of my heart.\n"
     ]
    }
   ],
   "source": [
    "### TODO：打印最长的3个个性签名 \n",
    "signatures = [dataset[i]['Signature'] for i in range(len(dataset))]\n",
    "\"\"\"\n",
    "原先助教建议我们使用 deepcopy 来防止修改数据列表时候 造成原始数据的也被修改\n",
    "普通的赋值操作 在python里感觉类似曾经学C++时候老师说的 引用 操作 \n",
    "两个变量本质上指向的是同一个东西 当我们修改其中某个变量时候 另一个也会发生相应改变\n",
    "而 deepcopy 解决这个问题 相当于做了一个“隔离”措施 复制出一个 数据一样 但是 独立互不影响\n",
    "不知道这样理解是否正确！若有问题希望指出！感谢！\n",
    "\"\"\"\n",
    "\"\"\"\n",
    "使用sorted方法（会建立一个新的list 不在原有list上操作 无需deepcopy了）按字符串长度排序\n",
    "这里使用len(i)作为排序的关键字 reverse为True 非正序 即降序排列\n",
    "lambda是一个匿名函数(懒得新建函数时候可用) lambda i:len(i) 即输入i 返回i的长 i是形参\n",
    "参考了 https://blog.csdn.net/moxiaobeimm/article/details/80702496 和 https://www.cnblogs.com/hf8051/p/8085424.html\n",
    "\"\"\"\n",
    "len_descending_signatures = sorted(signatures,key = lambda i:len(i),reverse = True)\n",
    "for i in range(3):\n",
    "    print(\"第\" , i+1 , \"长的签名是：\" , len_descending_signatures[i])"
   ]
  },
  {
   "cell_type": "code",
   "execution_count": 29,
   "metadata": {},
   "outputs": [
    {
     "name": "stderr",
     "output_type": "stream",
     "text": [
      "Building prefix dict from the default dictionary ...\n",
      "Dumping model to file cache /tmp/jieba.cache\n",
      "Loading model cost 1.318 seconds.\n",
      "Prefix dict has been built succesfully.\n"
     ]
    }
   ],
   "source": [
    "### 以下内容无需修改，直接运行即可\n",
    "from wordcloud import WordCloud\n",
    "import jieba\n",
    "\n",
    "tList = []\n",
    "for i in dataset:\n",
    "    signature = i[\"Signature\"].replace(\" \", \"\").replace(\"span\", \"\").replace(\"class\", \"\").replace(\"emoji\", \"\")\n",
    "    rep = re.compile(\"1f\\d.+\")\n",
    "    signature = rep.sub(\"\", signature)\n",
    "    if len(signature) > 0:\n",
    "        tList.append(signature)\n",
    "    \n",
    "text = \"\".join(tList)\n",
    "\n",
    "wordlist_jieba = jieba.cut(text, cut_all=True)\n",
    "wl_space_split = \" \".join(wordlist_jieba)"
   ]
  },
  {
   "cell_type": "code",
   "execution_count": 30,
   "metadata": {},
   "outputs": [
    {
     "data": {
      "image/png": "[encoded data removed]",
      "text/plain": [
       "<matplotlib.figure.Figure at 0x7fbdb61532e8>"
      ]
     },
     "metadata": {},
     "output_type": "display_data"
    },
    {
     "data": {
      "text/plain": [
       "<wordcloud.wordcloud.WordCloud at 0x7fbdb6153160>"
      ]
     },
     "execution_count": 30,
     "metadata": {},
     "output_type": "execute_result"
    }
   ],
   "source": [
    "### 以下内容无需修改，直接运行即可\n",
    "import PIL.Image as Image\n",
    "\n",
    "alice_coloring = np.array(Image.open(\"wechat.jpg\"))\n",
    "\n",
    "my_wordcloud = WordCloud(background_color=\"white\", max_words=2000, mask=alice_coloring,\n",
    "                         max_font_size=40, random_state=42, font_path='./SimHei.ttf').generate(wl_space_split)\n",
    "\n",
    "\n",
    "plt.imshow(my_wordcloud)\n",
    "plt.axis(\"off\")\n",
    "plt.show()\n",
    "\n",
    "my_wordcloud.to_file(os.path.join(\"wechatfriends_wordcloud.png\"))"
   ]
  },
  {
   "cell_type": "markdown",
   "metadata": {},
   "source": [
    "---\n",
    "\n",
    "## 任务4. 对好友签名进行情感分析\n",
    "\n",
    "在这部分内容中，我们调用了[SnowNLP](https://github.com/isnowfy/snownlp)的情感分析，它是一个python写的类库，可以方便的处理中文文本内容，不用我们实现其中具体的代码。一般来说，情感分析的目的是为了找出作者观点的态度，是正向还是负向，或者更具体的，我们希望知道他的情绪。\n",
    "\n",
    "在这里，我们希望了解到好友签名所表达出来的情感是积极的，还是中立、负面的，比如说在以下例子中，我们对\"这个商品我非常喜欢，颜色很合我意！\"这句话进行了预处理，并通过训练好的模型预测其的情感。\n",
    "\n",
    "在这里，我们简单地假设大于0.66表示积极，低于0.33表示消极，其他表示中立。\n",
    "\n",
    "运行以下代码试试看！"
   ]
  },
  {
   "cell_type": "code",
   "execution_count": 31,
   "metadata": {},
   "outputs": [
    {
     "name": "stdout",
     "output_type": "stream",
     "text": [
      "0.6851400314498396\n"
     ]
    }
   ],
   "source": [
    "### 以下内容无需修改，直接运行即可\n",
    "from snownlp import SnowNLP\n",
    "\n",
    "text = \"这个商品我非常喜欢，颜色很合我意！\"\n",
    "sentiment = SnowNLP(text).sentiments\n",
    "\n",
    "print(sentiment)"
   ]
  },
  {
   "cell_type": "markdown",
   "metadata": {},
   "source": [
    "接下来，我们将好友的签名进行文本预处理，并尝试统计其中积极、中立、消极的个数。\n",
    "\n",
    "### 练习：统计好友签名情感分析结果比例\n",
    "* 统计sentiments中**大于0.66**的个数\n",
    "* 统计sentiments中**大于等于0.33且小于等于0.66**的个数\n",
    "* 统计sentiments中**小于0.33**的个数\n",
    "\n",
    "提示：可以用循环语句或者列表表达式实现。"
   ]
  },
  {
   "cell_type": "code",
   "execution_count": 32,
   "metadata": {},
   "outputs": [],
   "source": [
    "### 以下内容无需修改，直接运行即可\n",
    "sentiments = []\n",
    "for i in tList:\n",
    "    sentiments.append(SnowNLP(i).sentiments) "
   ]
  },
  {
   "cell_type": "code",
   "execution_count": 51,
   "metadata": {},
   "outputs": [
    {
     "name": "stdout",
     "output_type": "stream",
     "text": [
      "情感积极有： 63\n",
      "情感中立有： 33\n",
      "情感消极有： 8\n"
     ]
    }
   ],
   "source": [
    "### TODO：统计sentiments中大于0.66的个数\n",
    "positive = None\n",
    "positive = len([i for i in sentiments if i > 0.66]) # 列表推导式 遍历后变成列表然后算长\n",
    "print(\"情感积极有：\",positive)\n",
    "### TODO：统计sentiments中大于等于0.33且小于等于0.66的个数\n",
    "neutral = None\n",
    "neutral = len([i for i in sentiments if i <= 0.66 and i >= 0.33])\n",
    "print(\"情感中立有：\",neutral)\n",
    "### TODO：统计sentiments中小于0.33的个数\n",
    "negative = None\n",
    "negative = len([i for i in sentiments if i < 0.33])\n",
    "print(\"情感消极有：\",negative)"
   ]
  },
  {
   "cell_type": "code",
   "execution_count": 52,
   "metadata": {},
   "outputs": [
    {
     "data": {
      "image/png": "[encoded data removed]",
      "text/plain": [
       "<matplotlib.figure.Figure at 0x7fbdad584e48>"
      ]
     },
     "metadata": {},
     "output_type": "display_data"
    }
   ],
   "source": [
    "### 以下内容无需修改，直接运行即可\n",
    "labels = [u'Negative',u'Neutral',u'Positive']\n",
    "values = (negative,neutral,positive)\n",
    "plt.xlabel(u'Sentiment Analysis')\n",
    "plt.ylabel(u'Number')\n",
    "plt.xticks(range(3),labels)\n",
    "plt.bar(range(3), values)\n",
    "\n",
    "plt.title('Sentiment Analysis of Friends signature')\n",
    "plt.show()"
   ]
  },
  {
   "cell_type": "markdown",
   "metadata": {},
   "source": [
    "**注意: 当你写完了所有的代码，并且回答了所有的问题。你就可以把你的 iPython Notebook 导出成 HTML 文件。你可以在菜单栏，这样导出File -> Download as -> HTML (.html)把这个 HTML 和这个 iPython notebook 一起做为你的作业提交。**"
   ]
  }
 ],
 "metadata": {
  "kernelspec": {
   "display_name": "Python 3",
   "language": "python",
   "name": "python3"
  },
  "language_info": {
   "codemirror_mode": {
    "name": "ipython",
    "version": 3
   },
   "file_extension": ".py",
   "mimetype": "text/x-python",
   "name": "python",
   "nbconvert_exporter": "python",
   "pygments_lexer": "ipython3",
   "version": "3.6.3"
  }
 },
 "nbformat": 4,
 "nbformat_minor": 2
}
