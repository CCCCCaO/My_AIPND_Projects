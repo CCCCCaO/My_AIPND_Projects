{
 "cells": [
  {
   "cell_type": "markdown",
   "metadata": {},
   "source": [
    "# 均值标准化\n",
    "\n",
    "在机器学习中，我们会使用大量数据训练我们的模型。某些机器学习算法可能需要*标准化*数据才能正常工作。标准化是指*特征缩放*，旨在确保所有数据都采用相似的刻度，*即*所有数据采用相似范围的值。例如，数据集的值范围在 0 到 5,000 之间。通过标准化数据，可以使值范围在 0 到 1 之间。\n",
    "\n",
    "在此 Lab 中，你将执行一种特殊形式的特征缩放，称之为*均值标准化*。均值标准化不仅会缩放数据，而且会确保数据的均值为 0。\n",
    "\n",
    "# TODO：\n",
    "\n",
    "首先，你将导入 NumPy 并创建一个秩为 2 的 ndarray，其中包含 0 到 5,000（含）之间的随机整数，共有 1000 行和 20 列。此数组将模拟一个值范围很广的数据集。请填充以下代码"
   ]
  },
  {
   "cell_type": "code",
   "execution_count": 3,
   "metadata": {},
   "outputs": [
    {
     "name": "stdout",
     "output_type": "stream",
     "text": [
      "(1000, 20)\n"
     ]
    }
   ],
   "source": [
    "# import NumPy into Python\n",
    "import numpy as np\n",
    "\n",
    "# Create a 1000 x 20 ndarray with random integers in the half-open interval [0, 5001).\n",
    "X = np.random.randint(0, 5001, size=(1000,20))\n",
    "\n",
    "# print the shape of X\n",
    "print(X.shape)"
   ]
  },
  {
   "cell_type": "markdown",
   "metadata": {},
   "source": [
    "创建好数组后，我们将标准化数据。我们将使用以下方程进行均值标准化：\n",
    "\n",
    "$\\mbox{Norm_Col}_i = \\frac{\\mbox{Col}_i - \\mu_i}{\\sigma_i}$\n",
    "\n",
    "其中 $\\mbox{Col}_i$ 是 $X$ 的第 $i$ 列，$\\mu_i$ 是 $X$ 的第 $i$ 列的平均值，$\\sigma_i$ 是 $X$ 的第 $i$ 列的标准差。换句话说，均值标准化的计算方法是将值减去 $X$ 的每列的平均值，然后除以值的标准差。在下面的空白处，你首先需要计算 $X$ 的每列的平均值和标准差。"
   ]
  },
  {
   "cell_type": "code",
   "execution_count": 4,
   "metadata": {},
   "outputs": [],
   "source": [
    "# Average of the values in each column of X\n",
    "ave_cols = X.mean(axis=0)\n",
    "\n",
    "# Standard Deviation of the values in each column of X\n",
    "std_cols = X.std(axis=0)"
   ]
  },
  {
   "cell_type": "markdown",
   "metadata": {},
   "source": [
    "如果你正确地完成了上述计算过程，则 `ave_cols` 和 `std_cols` 向量的形状都应该为 `(20,)`，因为 $X$ 有 20 列。你可以通过填充以下代码验证这一点："
   ]
  },
  {
   "cell_type": "code",
   "execution_count": 5,
   "metadata": {
    "scrolled": true
   },
   "outputs": [
    {
     "name": "stdout",
     "output_type": "stream",
     "text": [
      "ave_cols 每列的均值是：\n",
      " [ 2541.719  2494.094  2441.956  2567.493  2533.664  2527.686  2465.875\n",
      "  2477.02   2448.468  2489.791  2507.807  2494.619  2500.433  2520.957\n",
      "  2531.959  2475.208  2488.022  2545.725  2486.181  2490.268]\n",
      "std_cols 每列的标准差是:\n",
      "： [ 1457.11164707  1444.16024151  1446.19853411  1449.27345382  1436.58640642\n",
      "  1429.39172707  1466.72024169  1410.80987295  1399.18298195  1457.27590775\n",
      "  1459.58886943  1451.64826175  1477.36835065  1473.50633224  1461.03272288\n",
      "  1444.27133487  1466.48250979  1456.87274852  1447.50435517  1468.82917393]\n"
     ]
    }
   ],
   "source": [
    "# Print the shape of ave_cols\n",
    "print('ave_cols 每列的均值是：\\n',ave_cols)\n",
    "# Print the shape of std_cols\n",
    "print('std_cols 每列的标准差是:\\n：',std_cols)"
   ]
  },
  {
   "cell_type": "markdown",
   "metadata": {},
   "source": [
    "现在，你可以利用广播计算 $X$ 的均值标准化版本，借助上述方程，用一行代码就能搞定。请填充以下代码"
   ]
  },
  {
   "cell_type": "code",
   "execution_count": 6,
   "metadata": {},
   "outputs": [],
   "source": [
    "# Mean normalize X\n",
    "X_norm = (X - ave_cols) / std_cols"
   ]
  },
  {
   "cell_type": "markdown",
   "metadata": {},
   "source": [
    "如果你正确地完成了均值标准化过程，那么 $X_{\\tiny{\\mbox{norm}}}$ 中的所有元素的平均值应该接近 0。你可以通过填充以下代码验证这一点："
   ]
  },
  {
   "cell_type": "code",
   "execution_count": 7,
   "metadata": {},
   "outputs": [
    {
     "name": "stdout",
     "output_type": "stream",
     "text": [
      "X_norm矩阵:\n",
      " [[-0.82060905  0.55596739  1.54131258 ..., -0.77407241  0.39020193\n",
      "   0.72148077]\n",
      " [-0.21667454  1.40351877 -0.94520632 ..., -1.73846687  0.76533034\n",
      "  -0.3719071 ]\n",
      " [ 0.56432258  1.32942726  1.20664207 ..., -1.0047034   0.21887257\n",
      "   1.22392177]\n",
      " ..., \n",
      " [-0.35118723 -0.48616073 -0.82558236 ..., -0.26201671 -1.35763391\n",
      "  -0.25140296]\n",
      " [-1.02375065  1.21725135  0.88649239 ...,  0.79916039 -0.61290386\n",
      "   0.09785481]\n",
      " [-1.59748843 -0.07415659 -1.49215751 ...,  0.10658103  1.05548491\n",
      "   0.98699837]]\n",
      "----------------------------------------------------------------------------------\n",
      "X_norm矩阵每列最小值为：\n",
      " [-1.74366803 -1.72563538 -1.68853442 -1.7715725  -1.76088538 -1.7641672\n",
      " -1.6805352  -1.75574331 -1.73706229 -1.70440682 -1.71747473 -1.71847345\n",
      " -1.69249125 -1.70135475 -1.73299267 -1.71311854 -1.68840882 -1.73846687\n",
      " -1.7168729  -1.69268697]\n",
      "----------------------------------------------------------------------------------\n",
      "X_norm矩阵每列最大值为：\n",
      " [ 1.68709172  1.73450697  1.75774207  1.67291203  1.71332263  1.72962663\n",
      "  1.7263858   1.78690272  1.81429594  1.72184896  1.70609207  1.72313161\n",
      "  1.69122819  1.67290968  1.68650637  1.74675765  1.71156354  1.67500902\n",
      "  1.7366573   1.70457671]\n"
     ]
    }
   ],
   "source": [
    "# Print the average of all the values of X_norm\n",
    "print('X_norm矩阵:\\n', X_norm)\n",
    "print(\"----------------------------------------------------------------------------------\")\n",
    "# Print the minimum value of each column of X_norm\n",
    "print('X_norm矩阵每列最小值为：\\n', X_norm.min(axis=0))\n",
    "print(\"----------------------------------------------------------------------------------\")\n",
    "# Print the maximum value of each column of X_norm\n",
    "print('X_norm矩阵每列最大值为：\\n', X_norm.max(axis=0))"
   ]
  },
  {
   "cell_type": "markdown",
   "metadata": {},
   "source": [
    "请注意，因为 $X$ 是使用随机整数创建的，因此上述值将有所变化。\n",
    "\n",
    "# 数据分离\n",
    "\n",
    "数据均值标准化后，通常在机器学习中，我们会将数据集拆分为三个集合：\n",
    "\n",
    "1. 训练集\n",
    "2. 交叉验证集\n",
    "3. 测试集\n",
    "\n",
    "划分方式通常为，训练集包含 60% 的数据，交叉验证集包含 20% 的数据，测试集包含 20% 的数据。\n",
    "\n",
    "在此部分，你需要将 `X_norm` 分离成训练集、交叉验证集和测试集。每个数据集将包含随机选择的 `X_norm` 行，确保不能重复选择相同的行。这样可以保证所有的 `X_norm` 行都能被选中，并且在三个新的数据集中随机分布。\n",
    "\n",
    "首先你需要创建一个秩为 1 的 ndarray，其中包含随机排列的 `X_norm` 行索引。为此，你可以使用 `np.random.permutation()` 函数。\n",
    "`np.random.permutation(N)`函数的作用是: 随机地排列一个序列或者一个范围 详情可以输入\n",
    "```python\n",
    ">>>help(np.random.permutation)\n",
    "```\n",
    "\n",
    "`np.random.permutation(N)` 函数会创建一个从 0 到 `N - 1`的随机排列的整数集。我们来看一个示例。\n",
    "\n"
   ]
  },
  {
   "cell_type": "code",
   "execution_count": 8,
   "metadata": {},
   "outputs": [
    {
     "data": {
      "text/plain": [
       "array([2, 0, 3, 1, 4])"
      ]
     },
     "execution_count": 8,
     "metadata": {},
     "output_type": "execute_result"
    }
   ],
   "source": [
    "# We create a random permutation of integers 0 to 4\n",
    "np.random.permutation(5)"
   ]
  },
  {
   "cell_type": "markdown",
   "metadata": {},
   "source": [
    "# TODO\n",
    "\n",
    "在下面的空白处，创建一个秩为 1 的 ndarray，其中包含随机排列的 `X_norm` 行索引。用一行代码就能搞定：使用 `shape` 属性提取 `X_norm` 的行数，然后将其传递给  `np.random.permutation()` 函数。注意，`shape` 属性返回一个包含两个数字的元组，格式为 `(rows,columns)`。"
   ]
  },
  {
   "cell_type": "code",
   "execution_count": 9,
   "metadata": {},
   "outputs": [],
   "source": [
    "# Create a rank 1 ndarray that contains a random permutation of the row indices of `X_norm`\n",
    "row_indices = np.random.permutation(X_norm.shape[0])"
   ]
  },
  {
   "cell_type": "markdown",
   "metadata": {},
   "source": [
    "现在，你可以使用 `row_indices` ndarray 创建三个数据集，并选择进入每个数据集的行。注意，训练集包含 60% 的数据，交叉验证集包含 20% 的数据，测试集包含 20% 的数据。每个集合都只需一行代码就能创建。请填充以下代码"
   ]
  },
  {
   "cell_type": "code",
   "execution_count": 11,
   "metadata": {},
   "outputs": [],
   "source": [
    "# Make any necessary calculations.\n",
    "# You can save your calculations into variables to use later.\n",
    "\n",
    "train_idx = int(0.6*row_indices.shape[0])\n",
    "crossVal_idx = int(0.2*row_indices.shape[0]) + train_idx\n",
    "\n",
    "train_row_indices = row_indices[:train_idx]\n",
    "crossVal_row_indices = row_indices[train_idx:crossVal_idx]\n",
    "test_row_indices = row_indices[crossVal_idx:]\n",
    "# Create a Training Set\n",
    "X_train = X_norm[train_row_indices,:]\n",
    "\n",
    "# Create a Cross Validation Set\n",
    "X_crossVal = X_norm[crossVal_row_indices,:]\n",
    "\n",
    "# Create a Test Set\n",
    "X_test = X_norm[test_row_indices,:]"
   ]
  },
  {
   "cell_type": "markdown",
   "metadata": {},
   "source": [
    "如果你正确地完成了上述计算步骤，那么 `X_tain` 应该有 600 行和 20 列，`X_crossVal` 应该有 200 行和 20 列，`X_test` 应该有 200 行和 20 列。你可以通过填充以下代码验证这一点："
   ]
  },
  {
   "cell_type": "code",
   "execution_count": 12,
   "metadata": {},
   "outputs": [
    {
     "name": "stdout",
     "output_type": "stream",
     "text": [
      "(600, 20)\n",
      "(200, 20)\n",
      "(200, 20)\n"
     ]
    }
   ],
   "source": [
    "# Print the shape of X_train\n",
    "print(X_train.shape)\n",
    "# Print the shape of X_crossVal\n",
    "print(X_crossVal.shape)\n",
    "# Print the shape of X_test\n",
    "print(X_test.shape)"
   ]
  }
 ],
 "metadata": {
  "kernelspec": {
   "display_name": "Python 3",
   "language": "python",
   "name": "python3"
  },
  "language_info": {
   "codemirror_mode": {
    "name": "ipython",
    "version": 3
   },
   "file_extension": ".py",
   "mimetype": "text/x-python",
   "name": "python",
   "nbconvert_exporter": "python",
   "pygments_lexer": "ipython3",
   "version": "3.6.3"
  }
 },
 "nbformat": 4,
 "nbformat_minor": 2
}
