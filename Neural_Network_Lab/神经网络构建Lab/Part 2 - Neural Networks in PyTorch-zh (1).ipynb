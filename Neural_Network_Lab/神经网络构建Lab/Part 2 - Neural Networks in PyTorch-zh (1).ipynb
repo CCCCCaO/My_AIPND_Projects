{
 "cells": [
  {
   "cell_type": "markdown",
   "metadata": {},
   "source": [
    "# 通过 PyTorch 构建神经网络\n",
    "\n",
    "下面我们将了解如何使用 PyTorch 构建神经网络。"
   ]
  },
  {
   "cell_type": "code",
   "execution_count": 1,
   "metadata": {},
   "outputs": [],
   "source": [
    "# 导入各库\n",
    "\n",
    "%matplotlib inline\n",
    "%config InlineBackend.figure_format = 'retina'\n",
    "\n",
    "import numpy as np\n",
    "import torch\n",
    "\n",
    "import helper\n",
    "\n",
    "import matplotlib.pyplot as plt\n",
    "from torchvision import datasets, transforms"
   ]
  },
  {
   "cell_type": "markdown",
   "metadata": {},
   "source": [
    "首先，我们需要获取数据集。这些数据位于 `torchvision` 软件包中。以下代码将下载 MNIST 数据集，然后为我们创建训练数据集和测试数据集。暂时不用对细节部分太关心，稍后你会详细学习的。"
   ]
  },
  {
   "cell_type": "code",
   "execution_count": 2,
   "metadata": {},
   "outputs": [
    {
     "name": "stdout",
     "output_type": "stream",
     "text": [
      "Downloading http://yann.lecun.com/exdb/mnist/train-images-idx3-ubyte.gz\n",
      "Downloading http://yann.lecun.com/exdb/mnist/train-labels-idx1-ubyte.gz\n",
      "Downloading http://yann.lecun.com/exdb/mnist/t10k-images-idx3-ubyte.gz\n",
      "Downloading http://yann.lecun.com/exdb/mnist/t10k-labels-idx1-ubyte.gz\n",
      "Processing...\n",
      "Done!\n"
     ]
    }
   ],
   "source": [
    "# 定义一组数据集的转换\n",
    "'''\n",
    "transforms.ToTensor() 将数据集转换成张量\n",
    "transforms.Normalize() 将数据集正则化 \n",
    "    前面那(0.5, 0.5, 0.5)部分的作用是将图像的RGB三通道都减去0.5\n",
    "    后面那(0.5, 0.5, 0.5)部分的作用是将图像的RGB三通道的数值都除以0.5\n",
    "    因为原始的图像是灰阶图每个像素的RGB都在0-1的范围 \n",
    "    然后都减去0.5就可以变成-0.5-0.5范围\n",
    "    然后再除以0.5 这样可以使得这一组数据的方差范围扩展至-1到1\n",
    "    这样做的目的是为了使神经网络更容易学习\n",
    "'''\n",
    "transform = transforms.Compose([transforms.ToTensor(),\n",
    "                              transforms.Normalize((0.5, 0.5, 0.5), (0.5, 0.5, 0.5)),\n",
    "                             ])\n",
    "# Download and load the training data 方如trainset\n",
    "'''\n",
    "download参数表示如果磁盘上没用 就下载\n",
    "batch_size参数是批次大小 这里设定为64 即每次将会从数据集取出64张图片 \n",
    "'''\n",
    "trainset = datasets.MNIST('MNIST_data/', download=True, train=True, transform=transform)\n",
    "trainloader = torch.utils.data.DataLoader(trainset, batch_size=64, shuffle=True)\n",
    "\n",
    "# Download and load the test data\n",
    "testset = datasets.MNIST('MNIST_data/', download=True, train=False, transform=transform)\n",
    "testloader = torch.utils.data.DataLoader(testset, batch_size=64, shuffle=True)"
   ]
  },
  {
   "cell_type": "code",
   "execution_count": 3,
   "metadata": {},
   "outputs": [],
   "source": [
    "dataiter = iter(trainloader)\n",
    "images, labels = dataiter.next()"
   ]
  },
  {
   "cell_type": "markdown",
   "metadata": {},
   "source": [
    "我们将训练数据加载到了 `trainloader` 中，并使用 `iter(trainloader)`使其变成迭代器。我们将用它循环访问数据集以进行训练，但是现在我只获取了第一批数据，以便查看数据。从下方可以看出，`images` 是一个大小为 (64, 1, 28, 28) 的张量。因此，每批有 64 个图像、1 个颜色通道，共有 28x28 个图像。"
   ]
  },
  {
   "cell_type": "code",
   "execution_count": 5,
   "metadata": {},
   "outputs": [
    {
     "data": {
      "text/plain": [
       "<matplotlib.image.AxesImage at 0x7f78fa484a20>"
      ]
     },
     "execution_count": 5,
     "metadata": {},
     "output_type": "execute_result"
    },
    {
     "data": {
      "image/png": "[encoded data removed]",
      "text/plain": [
       "<matplotlib.figure.Figure at 0x7f78fa50f400>"
      ]
     },
     "metadata": {
      "image/png": {
       "height": 250,
       "width": 253
      },
      "needs_background": "light"
     },
     "output_type": "display_data"
    }
   ],
   "source": [
    "plt.imshow(images[1].numpy().squeeze(), cmap='Greys_r')"
   ]
  },
  {
   "cell_type": "markdown",
   "metadata": {},
   "source": [
    "## 通过 PyTorch 构建神经网络\n",
    "\n",
    "我将使用 PyTorch 构建一个简单的前馈网络，用于对 MNIST 图像进行分类。即该网络将接收数字图像作为输入，并预测图像中的数字。\n",
    "\n",
    "<img src=\"assets/mlp_mnist.png\" width=600px>\n",
    "\n",
    "要通过 PyTorch 构建神经网络，你需要使用 `torch.nn` 模块。网络本身是继承自 `torch.nn.Module` 的类。你需要单独定义每个运算，例如针对具有 784 个输入和 128 个单元的全连接层定义为 `nn.Linear(784, 128)`。\n",
    "\n",
    "该类需要包含对网络实现前向传递的 `forward` 方法。在此方法中，你将对之前定义的每个运算传递输入张量 `x`。`torch.nn` 模块在 `torch.nn.functional` 中还具有一些对等的功能，例如 ReLU。此模块通常导入为 `F`。要对某个层（只是一个张量）使用 ReLU 激活函数，你需要使用 `F.relu(x)`。以下是一些常见的不同激活函数。\n",
    "\n",
    "<img src=\"assets/activation.png\" width=700px>\n",
    "\n",
    "对于此网络，我将添加三个全连接层，然后添加一个预测类别的 softmax 输出。softmax 函数和 S 型函数相似，都会将输入调整到 0 到 1 之间，但是还会标准化这些输入，以便所有值的和为 1，就像正常的概率分布一样。"
   ]
  },
  {
   "cell_type": "code",
   "execution_count": 6,
   "metadata": {},
   "outputs": [],
   "source": [
    "from torch import nn\n",
    "from torch import optim\n",
    "import torch.nn.functional as F\n",
    "from torch.autograd import Variable"
   ]
  },
  {
   "cell_type": "code",
   "execution_count": 7,
   "metadata": {},
   "outputs": [
    {
     "data": {
      "text/plain": [
       "Network(\n",
       "  (fc1): Linear(in_features=784, out_features=128, bias=True)\n",
       "  (fc2): Linear(in_features=128, out_features=64, bias=True)\n",
       "  (fc3): Linear(in_features=64, out_features=10, bias=True)\n",
       ")"
      ]
     },
     "execution_count": 7,
     "metadata": {},
     "output_type": "execute_result"
    }
   ],
   "source": [
    "class Network(nn.Module):\n",
    "    def __init__(self):\n",
    "        # Network类初始化 这里Network类是nn.Module的子类\n",
    "        # super()可以调用这个子类所继承的那个类的函数或属性\n",
    "        # 这里即意味着 调用了Network类的基类nn.Module类中的__init__()方法\n",
    "        super().__init__()\n",
    "        \n",
    "        # 神经网络的架构构建\n",
    "        # 定义各层, 128, 64, 10 units each fc表示全连接 线性的 \n",
    "        self.fc1 = nn.Linear(784, 128) # 输入层-隐藏层1 728表示输入 128表示输出\n",
    "        self.fc2 = nn.Linear(128, 64) # 隐藏层1-隐藏层2 128表示输入 64表示输出\n",
    "        self.fc3 = nn.Linear(64, 10) # 隐藏层2-输出层 64输入 10个输出\n",
    "        \n",
    "    def forward(self, x):\n",
    "        ''' \n",
    "        参数：x是一个Tensor\n",
    "        我们这里所作的即是将x传入各层 然后正向计算并输出\n",
    "        '''\n",
    "        x = self.fc1(x) # 输入层输入x 得到隐藏层1的输出\n",
    "        x = F.relu(x) # 经过激励函数RelU\n",
    "        x = self.fc2(x) # 传入隐藏层1的x 得到隐藏层2的输出\n",
    "        x = F.relu(x) # 经过激励函数ReLU\n",
    "        x = self.fc3(x) # 传入隐藏层2的x 得到输出层输出\n",
    "        # 这里不要按照视频中的填写x = F.softmax(x, dim=1) \n",
    "        # 经过softmax函数激励 dim=1是维度的意思\n",
    "        # 因为这里的jupyter notebook增加了一个predict函数 负责将最后层输出的结果经过\n",
    "        # softmax函数！！！\n",
    "        return x\n",
    "    \n",
    "    def predict(self, x):\n",
    "        ''' This function for predicts classes by calculating the softmax '''\n",
    "        logits = self.forward(x)\n",
    "        return F.softmax(logits)\n",
    "\n",
    "# 创建一个net对象\n",
    "net = Network()\n",
    "net"
   ]
  },
  {
   "cell_type": "markdown",
   "metadata": {},
   "source": [
    "### 初始化权重和偏差\n",
    "\n",
    "权重等参数是系统自动初始化的，但是你也可以自定义如何初始化这些权重。权重和偏差是附加到你所定义的层的张量，你可以通过 `net.fc1.weight` 获取它们。"
   ]
  },
  {
   "cell_type": "code",
   "execution_count": 8,
   "metadata": {},
   "outputs": [
    {
     "name": "stdout",
     "output_type": "stream",
     "text": [
      "Parameter containing:\n",
      "tensor([[-5.3677e-03, -3.2127e-02,  6.7439e-03,  ..., -1.2093e-02,\n",
      "          3.4714e-02,  4.9237e-03],\n",
      "        [ 2.2586e-02,  1.4596e-02,  2.6984e-02,  ..., -2.3542e-02,\n",
      "          8.2146e-03, -1.1699e-02],\n",
      "        [-1.7370e-02, -1.6336e-02, -2.7270e-02,  ..., -2.4807e-02,\n",
      "          1.4854e-02, -1.4156e-02],\n",
      "        ...,\n",
      "        [-3.4931e-02,  2.4463e-02,  3.3973e-02,  ...,  2.3364e-02,\n",
      "         -6.0608e-03,  1.1489e-02],\n",
      "        [-1.3349e-02,  3.5432e-02, -2.7138e-02,  ..., -7.1842e-03,\n",
      "          7.7524e-03,  1.3238e-02],\n",
      "        [ 1.1222e-02,  9.1565e-03, -3.4951e-02,  ...,  5.1660e-04,\n",
      "          6.9033e-03, -1.3992e-02]])\n",
      "Parameter containing:\n",
      "tensor(1.00000e-02 *\n",
      "       [-1.5324, -2.6218, -3.3779, -2.5950, -1.0897,  0.8472, -0.9548,\n",
      "         1.2911, -1.8510, -2.6087, -2.4057, -0.6882,  0.0471,  3.0412,\n",
      "         2.1581, -1.8664,  0.2430,  0.7301,  1.4518,  1.3499,  2.7421,\n",
      "         0.3554,  1.3167, -1.2868, -0.3564,  3.0366,  0.7462, -2.1502,\n",
      "        -3.0168, -1.2076,  3.0292, -2.4977, -1.0450, -3.0894, -1.5323,\n",
      "        -0.4667, -0.2344, -1.2426, -0.7095, -2.6151, -2.7886,  2.7192,\n",
      "         2.2923,  2.2204, -1.4360, -1.2980, -1.0623,  0.2426,  0.4389,\n",
      "         1.9538,  2.8837, -3.3013,  3.5273,  1.2395, -2.9614, -0.5498,\n",
      "        -0.2229, -1.0841, -1.7394, -0.1696,  2.5555,  2.5201,  1.9549,\n",
      "        -1.0104,  2.1248,  1.6323, -1.9428, -3.2688, -3.1476, -1.2134,\n",
      "        -3.3325,  1.7893,  1.1143, -1.7469,  2.3722,  0.3882,  0.7555,\n",
      "        -1.6304, -0.6003,  3.0954,  2.7195, -2.8213, -2.1021,  2.3024,\n",
      "         3.3081,  2.1809, -3.1629,  0.9488, -0.8326, -3.1767, -2.3306,\n",
      "         2.8731,  0.3643, -1.4565,  3.5240, -1.2476,  0.2336, -0.9858,\n",
      "         2.0241, -1.0088,  0.6162,  0.1921, -1.9032,  1.7298,  0.4056,\n",
      "         1.0867, -3.0919, -2.1099, -0.6674,  2.3763,  0.0028, -2.3533,\n",
      "        -1.4181, -2.2509, -1.2124,  1.6853, -2.6594, -2.8110, -0.3599,\n",
      "        -0.2201,  1.4242,  3.5168, -2.1846,  0.5601, -3.0071,  2.8090,\n",
      "         3.2097,  0.8694])\n"
     ]
    }
   ],
   "source": [
    "print(net.fc1.weight)\n",
    "print(net.fc1.bias)"
   ]
  },
  {
   "cell_type": "markdown",
   "metadata": {},
   "source": [
    "要自定义初始化过程，请原地修改这些张量。实际上存在 autograd *变量*，因此我们需要通过 `net.fc1.weight.data` 获取真正的张量。获得张量后，可以用 0（针对偏差）或随机正常值填充这些张量。"
   ]
  },
  {
   "cell_type": "code",
   "execution_count": 11,
   "metadata": {},
   "outputs": [
    {
     "data": {
      "text/plain": [
       "tensor([ 0.,  0.,  0.,  0.,  0.,  0.,  0.,  0.,  0.,  0.,  0.,  0.,\n",
       "         0.,  0.,  0.,  0.,  0.,  0.,  0.,  0.,  0.,  0.,  0.,  0.,\n",
       "         0.,  0.,  0.,  0.,  0.,  0.,  0.,  0.,  0.,  0.,  0.,  0.,\n",
       "         0.,  0.,  0.,  0.,  0.,  0.,  0.,  0.,  0.,  0.,  0.,  0.,\n",
       "         0.,  0.,  0.,  0.,  0.,  0.,  0.,  0.,  0.,  0.,  0.,  0.,\n",
       "         0.,  0.,  0.,  0.,  0.,  0.,  0.,  0.,  0.,  0.,  0.,  0.,\n",
       "         0.,  0.,  0.,  0.,  0.,  0.,  0.,  0.,  0.,  0.,  0.,  0.,\n",
       "         0.,  0.,  0.,  0.,  0.,  0.,  0.,  0.,  0.,  0.,  0.,  0.,\n",
       "         0.,  0.,  0.,  0.,  0.,  0.,  0.,  0.,  0.,  0.,  0.,  0.,\n",
       "         0.,  0.,  0.,  0.,  0.,  0.,  0.,  0.,  0.,  0.,  0.,  0.,\n",
       "         0.,  0.,  0.,  0.,  0.,  0.,  0.,  0.])"
      ]
     },
     "execution_count": 11,
     "metadata": {},
     "output_type": "execute_result"
    }
   ],
   "source": [
    "# 将偏置都设置为0\n",
    "net.fc1.bias.data.fill_(0)"
   ]
  },
  {
   "cell_type": "code",
   "execution_count": 12,
   "metadata": {},
   "outputs": [
    {
     "data": {
      "text/plain": [
       "tensor([[ 3.4037e-03,  3.5347e-04,  1.3006e-02,  ..., -2.6230e-02,\n",
       "          1.1115e-02,  7.0861e-03],\n",
       "        [-4.7708e-03,  4.2318e-03, -8.0319e-03,  ...,  1.5013e-02,\n",
       "          1.9782e-03,  6.3582e-03],\n",
       "        [ 1.2053e-02,  1.3871e-03,  1.1216e-02,  ...,  1.3461e-02,\n",
       "         -2.5308e-02,  1.3185e-02],\n",
       "        ...,\n",
       "        [ 3.2583e-03, -1.8014e-02,  1.1558e-02,  ..., -8.5922e-03,\n",
       "          3.2640e-03, -1.9846e-02],\n",
       "        [-1.5140e-03,  7.3642e-03, -1.0416e-02,  ...,  6.0739e-03,\n",
       "         -1.0797e-02, -3.0002e-03],\n",
       "        [ 5.0524e-03, -3.7222e-03,  9.0477e-03,  ..., -1.2626e-02,\n",
       "          8.6455e-03,  3.4583e-03]])"
      ]
     },
     "execution_count": 12,
     "metadata": {},
     "output_type": "execute_result"
    }
   ],
   "source": [
    "# 设置权重 让其符合正态分布 即标准差为0.01\n",
    "net.fc1.weight.data.normal_(std=0.01)"
   ]
  },
  {
   "cell_type": "markdown",
   "metadata": {},
   "source": [
    "### 前向传递\n",
    "\n",
    "我们已经创建好网络，看看传入图像后会发生什么。这一过程称之为前向传递。我们将图像数据转换为张量，然后传递给网络架构定义的运算。"
   ]
  },
  {
   "cell_type": "code",
   "execution_count": 16,
   "metadata": {},
   "outputs": [
    {
     "data": {
      "image/png": "[encoded data removed]",
      "text/plain": [
       "<matplotlib.figure.Figure at 0x7f78f6f92e10>"
      ]
     },
     "metadata": {
      "image/png": {
       "height": 224,
       "width": 423
      },
      "needs_background": "light"
     },
     "output_type": "display_data"
    }
   ],
   "source": [
    "# 获取一些图像\n",
    "dataiter = iter(trainloader)\n",
    "images, labels = dataiter.next()\n",
    "# 调整图像大小 64是批次 1是1维 784是向量规模 这里输入的是28*28的向量\n",
    "images.resize_(64, 1, 784)\n",
    "\n",
    "# Need to wrap it in a Variable, will explain in next notebook\n",
    "inputs = Variable(images) \n",
    "\n",
    "# Forward pass through the network\n",
    "img_idx = 0\n",
    "logits = net.forward(inputs[img_idx,:])\n",
    "\n",
    "# Predict the class from the network output\n",
    "ps = F.softmax(logits, dim=1)\n",
    "\n",
    "img = images[img_idx]\n",
    "helper.view_classify(img.resize_(1, 28, 28), ps)"
   ]
  },
  {
   "cell_type": "markdown",
   "metadata": {},
   "source": [
    "从上图中可以看出，我们的网络基本上根本不知道这个数字是什么，因为我们还没训练它，所有权重都是随机的！接下来，我们将了解如何训练该网络，使其能学习如何正确地对这些数字进行分类。"
   ]
  },
  {
   "cell_type": "code",
   "execution_count": 18,
   "metadata": {},
   "outputs": [
    {
     "name": "stdout",
     "output_type": "stream",
     "text": [
      "Sequential(\n",
      "  (0): Linear(in_features=784, out_features=128, bias=True)\n",
      "  (1): ReLU()\n",
      "  (2): Linear(in_features=128, out_features=64, bias=True)\n",
      "  (3): ReLU()\n",
      "  (4): Linear(in_features=64, out_features=10, bias=True)\n",
      "  (5): Softmax()\n",
      ")\n"
     ]
    }
   ],
   "source": [
    "# 使用nn.Sequential来创建神经网络\n",
    "# 设计超参数\n",
    "input_size = 784 # 输入层\n",
    "hidden_size = [128, 64] # 两个隐藏层\n",
    "output_size = 10 # 输出层\n",
    "\n",
    "# 创建神经网络\n",
    "model = nn.Sequential(nn.Linear(input_size, hidden_size[0]),\n",
    "                     nn.ReLU(),\n",
    "                     nn.Linear(hidden_size[0], hidden_size[1]),\n",
    "                     nn.ReLU(),\n",
    "                     nn.Linear(hidden_size[1], output_size),\n",
    "                     nn.Softmax(dim=1))\n",
    "\n",
    "# 打印神经网络\n",
    "print(model)"
   ]
  },
  {
   "cell_type": "code",
   "execution_count": null,
   "metadata": {},
   "outputs": [],
   "source": []
  }
 ],
 "metadata": {
  "kernelspec": {
   "display_name": "Python 3",
   "language": "python",
   "name": "python3"
  },
  "language_info": {
   "codemirror_mode": {
    "name": "ipython",
    "version": 3
   },
   "file_extension": ".py",
   "mimetype": "text/x-python",
   "name": "python",
   "nbconvert_exporter": "python",
   "pygments_lexer": "ipython3",
   "version": "3.6.3"
  }
 },
 "nbformat": 4,
 "nbformat_minor": 2
}
