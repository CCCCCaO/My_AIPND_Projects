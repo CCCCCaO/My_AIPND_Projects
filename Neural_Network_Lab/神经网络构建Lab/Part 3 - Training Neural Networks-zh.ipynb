{
 "cells": [
  {
   "cell_type": "markdown",
   "metadata": {},
   "source": [
    "# 训练神经网络\n",
    "\n",
    "我们在上个部分构建的神经网络了解的信息很少，它不知道关于我们的手写数字的任何信息。具有非线性激活函数的神经网络就像通用函数逼近器一样。某些函数会将输入映射到输出。例如，将手写数字图像映射到类别概率。神经网络的强大之处是我们可以训练网络以逼近这个函数，基本上只要提供充足的数据和计算时间，任何函数都可以逼近。\n",
    "\n",
    "<img src=\"assets/function_approx.png\" width=500px>\n",
    "\n",
    "一开始网络很朴素，不知道将输入映射到输出的函数。我们通过向网络展示实际数据样本训练网络，然后调整网络参数，使其逼近此函数。\n",
    "\n",
    "要找到这些参数，我们需要了解网络预测真实输出的效果如何。为此，我们将计算**损失函数**（也称为成本），一种衡量预测错误的指标。例如，回归问题和二元分类问题经常使用均方损失\n",
    "\n",
    "$$\n",
    "\\ell = \\frac{1}{2n}\\sum_i^n{\\left(y_i - \\hat{y}_i\\right)^2}\n",
    "$$\n",
    "\n",
    "其中 $n$ 是训练样本的数量，$y_i$ 是真正的标签，$\\hat{y}_i$ 是预测标签。\n",
    "\n",
    "通过尽量减小相对于网络参数的这一损失，我们可以找到损失最低且网络能够以很高的准确率预测正确标签的配置。我们使用叫做**梯度下降法**的流程来寻找这一最低值。梯度是损失函数的斜率，指向变化最快的方向。要以最短的时间找到最低值，我们需要沿着梯度（向下）前进。可以将这一过程看做沿着最陡的路线下山。\n",
    "\n",
    "<img src='assets/gradient_descent.png' width=350px>\n",
    "\n",
    "## 反向传播\n",
    "\n",
    "对于单层网络，梯度下降法实现起来很简单。但是，对于更深、层级更多的神经网络（例如我们构建的网络），梯度下降法实现起来更复杂，以至于需要大约 30 年时间研究人员才能弄明白如何训练多层网络，虽然了解这一概念后会发现很简单。\n",
    "\n",
    "我们通过**反向传播**来实现，实际上是采用的微积分中的链式法则。最简单的理解方法是将两层网络转换为图形表示法。\n",
    "\n",
    "<img src='assets/w1_backprop_graph.png' width=400px>\n",
    "\n",
    "在网络的前向传递过程中，我们的数据和运算从左到右。要通过梯度下降法训练权重，我们沿着网络反向传播成本梯度。从数学角度来讲，其实就是使用链式法则计算相对于权重的损失梯度。\n",
    "\n",
    "$$\n",
    "\\frac{\\partial \\ell}{\\partial w_1} = \\frac{\\partial l_1}{\\partial w_1} \\frac{\\partial s}{\\partial l_1} \\frac{\\partial l_2}{\\partial s} \\frac{\\partial \\ell}{\\partial l_2}\n",
    "$$\n",
    "\n",
    "我们使用此梯度和学习速率 $\\alpha$ 更新权重。\n",
    "\n",
    "$$\n",
    "w^\\prime = w - \\alpha \\frac{\\partial \\ell}{\\partial w}\n",
    "$$\n",
    "\n",
    "设置学习速率的方式是权重更新步长很小，使迭代方法能达到最小值。\n",
    "\n",
    "对于训练步骤来说，首先我们需要定义损失函数。在 PyTorch 中，通常你会看到它写成了 `criterion` 形式。在此例中，我们使用 softmax 输出，因此我们希望使用 `criterion = nn.CrossEntropyLoss()` 作为损失函数。稍后在训练时，你需要使用 `loss = criterion(output, targets)` 计算实际损失。\n",
    "\n",
    "我们还需要定义优化器，例如 SGD 或 Adam 等。我将使用 SGD，即 `torch.optim.SGD`，并传入网络参数和学习速率。\n",
    "\n",
    "## Autograd\n",
    "\n",
    "Torch 提供了模块 `autograd` 用于自动计算张量的梯度。计算方式是跟踪在张量上执行的运算。要让 PyTorch 跟踪运算，你需要使用 `torch.autograd` 的 `Variable` 类封装张量。你可以使用 Variable 的 `.data` 属性获取张量。\n",
    "\n",
    "我们使用 `z.backward()` 计算相对于变量 `z` 的梯度。这样会对创建 `z` 的运算进行反向传递。"
   ]
  },
  {
   "cell_type": "code",
   "execution_count": 1,
   "metadata": {},
   "outputs": [],
   "source": [
    "%matplotlib inline\n",
    "%config InlineBackend.figure_format = 'retina'\n",
    "\n",
    "import numpy as np\n",
    "import time\n",
    "\n",
    "import torch\n",
    "from torch import nn\n",
    "from torch import optim\n",
    "import torch.nn.functional as F\n",
    "from torch.autograd import Variable\n",
    "\n",
    "import helper"
   ]
  },
  {
   "cell_type": "code",
   "execution_count": 2,
   "metadata": {},
   "outputs": [
    {
     "name": "stdout",
     "output_type": "stream",
     "text": [
      "tensor([[ 0.7294, -1.1111],\n",
      "        [-1.3306,  1.7804]])\n"
     ]
    }
   ],
   "source": [
    "# 创建一个随机张量x 2*2规模 并且使用autograd跟踪发生在此张量上所有的运算\n",
    "x = torch.randn(2,2)\n",
    "x = Variable(x, requires_grad=True)\n",
    "# 上面那个也可以写成 x = torch.randn(2,2, requires_grad=True)\n",
    "print(x)"
   ]
  },
  {
   "cell_type": "code",
   "execution_count": 3,
   "metadata": {},
   "outputs": [
    {
     "name": "stdout",
     "output_type": "stream",
     "text": [
      "tensor([[ 0.5320,  1.2345],\n",
      "        [ 1.7705,  3.1698]])\n"
     ]
    }
   ],
   "source": [
    "# 对x张量进行2次幂计算\n",
    "y = x**2\n",
    "print(y)"
   ]
  },
  {
   "cell_type": "markdown",
   "metadata": {},
   "source": [
    "我们可以在下面看到创建 `y` 的运算，即幂运算 `PowBackward0`."
   ]
  },
  {
   "cell_type": "code",
   "execution_count": 4,
   "metadata": {},
   "outputs": [
    {
     "name": "stdout",
     "output_type": "stream",
     "text": [
      "<PowBackward0 object at 0x7f1683723438>\n"
     ]
    }
   ],
   "source": [
    "## grad_fn shows the function that generated this variable 这里显示pow即幂次\n",
    "print(y.grad_fn)"
   ]
  },
  {
   "cell_type": "markdown",
   "metadata": {},
   "source": [
    "autgrad 模块会跟踪这些运算并知道如何为每个运算计算梯度。这样的话，它就能够计算一系列运算相对于任何一个张量的梯度。我们将张量 `y` 简化为标量值，即均值。"
   ]
  },
  {
   "cell_type": "code",
   "execution_count": 5,
   "metadata": {},
   "outputs": [
    {
     "name": "stdout",
     "output_type": "stream",
     "text": [
      "tensor(1.6767)\n"
     ]
    }
   ],
   "source": [
    "z = y.mean()\n",
    "print(z)"
   ]
  },
  {
   "cell_type": "markdown",
   "metadata": {},
   "source": [
    "你可以查看 `x` 和 `y` 的梯度，但是现在它们为空。"
   ]
  },
  {
   "cell_type": "code",
   "execution_count": 6,
   "metadata": {},
   "outputs": [
    {
     "name": "stdout",
     "output_type": "stream",
     "text": [
      "None\n"
     ]
    }
   ],
   "source": [
    "print(x.grad)"
   ]
  },
  {
   "cell_type": "markdown",
   "metadata": {},
   "source": [
    "要计算梯度，你需要对 Variable（例如 `z`）运行 `.backward` 方法。这样会计算 `z` 相对于 `x` 的梯度\n",
    "\n",
    "$$\n",
    "\\frac{\\partial z}{\\partial x} = \\frac{\\partial}{\\partial x}\\left[\\frac{1}{n}\\sum_i^n x_i^2\\right] = \\frac{x}{2}\n",
    "$$"
   ]
  },
  {
   "cell_type": "code",
   "execution_count": 7,
   "metadata": {},
   "outputs": [
    {
     "name": "stdout",
     "output_type": "stream",
     "text": [
      "tensor([[ 0.3647, -0.5555],\n",
      "        [-0.6653,  0.8902]])\n",
      "tensor([[ 0.3647, -0.5555],\n",
      "        [-0.6653,  0.8902]])\n"
     ]
    }
   ],
   "source": [
    "z.backward()\n",
    "print(x.grad)\n",
    "print(x/2)"
   ]
  },
  {
   "cell_type": "markdown",
   "metadata": {},
   "source": [
    "这些梯度运算对神经网络来说尤其有用。对于训练来说，我们需要得出权重相对于成本的梯度。对于 PyTorch，我们在网络中向前运行数据以计算成本，然后向后传播以计算相对于成本的梯度。得出梯度后，我们可以执行梯度下降步。\n",
    "\n",
    "## 训练网络！\n",
    "\n",
    "对于训练步骤来说，首先我们需要定义损失函数。在 PyTorch 中，通常你会看到它写成了 `criterion` 形式。在此例中，我们使用 softmax 输出，因此我们希望使用 `criterion = nn.CrossEntropyLoss()` 作为损失函数。稍后在训练时，你需要使用 `loss = criterion(output, targets)` 计算实际损失。\n",
    "\n",
    "我们还需要定义优化器，例如 SGD 或 Adam 等。我将使用 SGD，即 `torch.optim.SGD`，并传入网络参数和学习速率。"
   ]
  },
  {
   "cell_type": "code",
   "execution_count": 8,
   "metadata": {},
   "outputs": [],
   "source": [
    "# 和上一章节一样 获取数据并构建神经网络\n",
    "from torchvision import datasets, transforms\n",
    "\n",
    "# Define a transform to normalize the data\n",
    "transform = transforms.Compose([transforms.ToTensor(),\n",
    "                              transforms.Normalize((0.5, 0.5, 0.5), (0.5, 0.5, 0.5)),\n",
    "                             ])\n",
    "# Download and load the training data\n",
    "trainset = datasets.MNIST('MNIST_data/', download=True, train=True, transform=transform)\n",
    "trainloader = torch.utils.data.DataLoader(trainset, batch_size=64, shuffle=True)\n",
    "\n",
    "# Download and load the test data\n",
    "testset = datasets.MNIST('MNIST_data/', download=True, train=False, transform=transform)\n",
    "testloader = torch.utils.data.DataLoader(testset, batch_size=64, shuffle=True)"
   ]
  },
  {
   "cell_type": "code",
   "execution_count": 9,
   "metadata": {},
   "outputs": [],
   "source": [
    "class Network(nn.Module):\n",
    "    def __init__(self):\n",
    "        super().__init__()\n",
    "        # Defining the layers, 200, 50, 10 units each\n",
    "        self.fc1 = nn.Linear(784, 200)\n",
    "        self.fc2 = nn.Linear(200, 50)\n",
    "        # Output layer, 10 units - one for each digit\n",
    "        self.fc3 = nn.Linear(50, 10)\n",
    "        \n",
    "    def forward(self, x):\n",
    "        ''' Forward pass through the network, returns the output logits '''\n",
    "        \n",
    "        x = self.fc1(x)\n",
    "        x = F.relu(x)\n",
    "        x = self.fc2(x)\n",
    "        x = F.relu(x)\n",
    "        x = self.fc3(x)\n",
    "        return x\n",
    "    \n",
    "    def predict(self, x):\n",
    "        ''' This function for predicts classes by calculating the softmax '''\n",
    "        logits = self.forward(x)\n",
    "        return F.softmax(logits, dim=1)"
   ]
  },
  {
   "cell_type": "code",
   "execution_count": 10,
   "metadata": {},
   "outputs": [],
   "source": [
    "net = Network()\n",
    "# 定义损失函数 使用交叉熵\n",
    "criterion = nn.CrossEntropyLoss()\n",
    "# 定义优化器 使用随机梯度下降法 模型的所有参数 以及学习率\n",
    "optimizer = optim.SGD(net.parameters(), lr=0.01)"
   ]
  },
  {
   "cell_type": "markdown",
   "metadata": {},
   "source": [
    "首先我们只考虑一个学习步，然后再循环访问所有数据。PyTorch 的一般流程是：\n",
    "\n",
    "* 在网络中进行前向传递以获得 logits\n",
    "* 使用 logits 计算损失\n",
    "* 通过 `loss.backward()` 对网络进行反向传递以计算梯度\n",
    "* 用优化器执行一步以更新权重\n",
    "\n",
    "我将在下面完成一个训练步并输出权重和梯度，使你能够明白变化过程。"
   ]
  },
  {
   "cell_type": "code",
   "execution_count": 11,
   "metadata": {},
   "outputs": [
    {
     "name": "stdout",
     "output_type": "stream",
     "text": [
      "Initial weights -  Parameter containing:\n",
      "tensor([[-1.3379e-02, -7.5647e-03,  2.9398e-02,  ..., -1.4258e-02,\n",
      "          1.5749e-02,  1.8556e-02],\n",
      "        [ 1.1815e-02,  2.3139e-02, -1.1971e-02,  ..., -2.2807e-03,\n",
      "          2.1635e-02,  1.3979e-02],\n",
      "        [-8.8997e-03, -2.1532e-02,  8.7935e-04,  ...,  2.0745e-02,\n",
      "          3.0499e-04, -6.2171e-03],\n",
      "        ...,\n",
      "        [-2.7706e-03, -1.5943e-02, -1.6606e-02,  ...,  3.3453e-03,\n",
      "         -1.8223e-02,  2.6415e-02],\n",
      "        [-1.5857e-02, -1.7062e-02,  2.0083e-03,  ..., -1.5585e-02,\n",
      "          9.1716e-03,  1.8211e-03],\n",
      "        [ 2.0042e-02, -1.5072e-02,  2.6468e-02,  ..., -2.9938e-02,\n",
      "          4.6096e-03, -3.3216e-02]])\n",
      "Gradient - tensor(1.00000e-02 *\n",
      "       [[ 0.0895,  0.0895,  0.0895,  ...,  0.0895,  0.0895,  0.0895],\n",
      "        [ 0.1085,  0.1085,  0.1085,  ...,  0.1085,  0.1085,  0.1085],\n",
      "        [ 0.1019,  0.1019,  0.1019,  ...,  0.1019,  0.1019,  0.1019],\n",
      "        ...,\n",
      "        [-0.0969, -0.0969, -0.0969,  ..., -0.0969, -0.0969, -0.0969],\n",
      "        [ 0.0613,  0.0613,  0.0613,  ...,  0.0613,  0.0613,  0.0613],\n",
      "        [-0.1071, -0.1071, -0.1071,  ..., -0.1071, -0.1071, -0.1071]])\n"
     ]
    }
   ],
   "source": [
    "print('Initial weights - ', net.fc1.weight)\n",
    "\n",
    "# 这两行也可以写成 images, labels = next(iter(trainloader))噢！\n",
    "dataiter = iter(trainloader)\n",
    "images, labels = dataiter.next()\n",
    "\n",
    "images.resize_(64, 784)\n",
    "\n",
    "# Create Variables for the inputs and targets\n",
    "inputs = Variable(images)\n",
    "targets = Variable(labels)\n",
    "\n",
    "# Clear the gradients from all Variables 防止梯度被累加 这里梯度要归零\n",
    "optimizer.zero_grad()\n",
    "\n",
    "# Forward pass, then backward pass, then update weights 前向传播\n",
    "output = net.forward(inputs) # 输出\n",
    "loss = criterion(output, targets) # 损失\n",
    "loss.backward() # 反向传播\n",
    "print('Gradient -', net.fc1.weight.grad)\n",
    "optimizer.step() # 更新权重"
   ]
  },
  {
   "cell_type": "code",
   "execution_count": 12,
   "metadata": {},
   "outputs": [
    {
     "name": "stdout",
     "output_type": "stream",
     "text": [
      "Updated weights -  Parameter containing:\n",
      "tensor([[-1.3388e-02, -7.5736e-03,  2.9389e-02,  ..., -1.4267e-02,\n",
      "          1.5740e-02,  1.8547e-02],\n",
      "        [ 1.1804e-02,  2.3128e-02, -1.1982e-02,  ..., -2.2916e-03,\n",
      "          2.1624e-02,  1.3968e-02],\n",
      "        [-8.9099e-03, -2.1542e-02,  8.6917e-04,  ...,  2.0735e-02,\n",
      "          2.9481e-04, -6.2273e-03],\n",
      "        ...,\n",
      "        [-2.7609e-03, -1.5933e-02, -1.6596e-02,  ...,  3.3550e-03,\n",
      "         -1.8214e-02,  2.6425e-02],\n",
      "        [-1.5863e-02, -1.7068e-02,  2.0022e-03,  ..., -1.5592e-02,\n",
      "          9.1655e-03,  1.8150e-03],\n",
      "        [ 2.0053e-02, -1.5062e-02,  2.6478e-02,  ..., -2.9927e-02,\n",
      "          4.6203e-03, -3.3205e-02]])\n"
     ]
    }
   ],
   "source": [
    "print('Updated weights - ', net.fc1.weight)"
   ]
  },
  {
   "cell_type": "markdown",
   "metadata": {},
   "source": [
    "### 实际训练\n",
    "\n",
    "现在，我们将此算法用于循环中，以便访问所有图像。很简单，我们将循环访问数据集的小批次数据，在网络中传递数据以计算损失，获得梯度，然后运行优化器。"
   ]
  },
  {
   "cell_type": "code",
   "execution_count": 13,
   "metadata": {},
   "outputs": [],
   "source": [
    "net = Network()\n",
    "optimizer = optim.Adam(net.parameters(), lr=0.001) # 这里使用了Adam优化器！"
   ]
  },
  {
   "cell_type": "code",
   "execution_count": 14,
   "metadata": {},
   "outputs": [
    {
     "name": "stderr",
     "output_type": "stream",
     "text": [
      "/opt/conda/lib/python3.6/site-packages/ipykernel_launcher.py:24: UserWarning: invalid index of a 0-dim tensor. This will be an error in PyTorch 0.5. Use tensor.item() to convert a 0-dim tensor to a Python number\n",
      "/opt/conda/lib/python3.6/site-packages/ipykernel_launcher.py:33: UserWarning: volatile was removed and now has no effect. Use `with torch.no_grad():` instead.\n"
     ]
    },
    {
     "name": "stdout",
     "output_type": "stream",
     "text": [
      "Epoch: 1/1 Loss: 1.9159 Test accuracy: 0.5938\n",
      "Epoch: 1/1 Loss: 1.1698 Test accuracy: 0.7364\n",
      "Epoch: 1/1 Loss: 0.7557 Test accuracy: 0.8082\n",
      "Epoch: 1/1 Loss: 0.6133 Test accuracy: 0.8595\n",
      "Epoch: 1/1 Loss: 0.5108 Test accuracy: 0.8612\n",
      "Epoch: 1/1 Loss: 0.4333 Test accuracy: 0.8798\n",
      "Epoch: 1/1 Loss: 0.4512 Test accuracy: 0.8678\n",
      "Epoch: 1/1 Loss: 0.4061 Test accuracy: 0.8793\n",
      "Epoch: 1/1 Loss: 0.4162 Test accuracy: 0.8910\n",
      "Epoch: 1/1 Loss: 0.4115 Test accuracy: 0.8823\n",
      "Epoch: 1/1 Loss: 0.4240 Test accuracy: 0.8884\n",
      "Epoch: 1/1 Loss: 0.3833 Test accuracy: 0.8988\n",
      "Epoch: 1/1 Loss: 0.3797 Test accuracy: 0.9005\n",
      "Epoch: 1/1 Loss: 0.3872 Test accuracy: 0.9040\n",
      "Epoch: 1/1 Loss: 0.3533 Test accuracy: 0.8993\n",
      "Epoch: 1/1 Loss: 0.3327 Test accuracy: 0.8901\n",
      "Epoch: 1/1 Loss: 0.3474 Test accuracy: 0.9101\n",
      "Epoch: 1/1 Loss: 0.2998 Test accuracy: 0.9149\n",
      "Epoch: 1/1 Loss: 0.3463 Test accuracy: 0.9151\n",
      "Epoch: 1/1 Loss: 0.3190 Test accuracy: 0.9125\n",
      "Epoch: 1/1 Loss: 0.3373 Test accuracy: 0.9117\n",
      "Epoch: 1/1 Loss: 0.2735 Test accuracy: 0.9158\n",
      "Epoch: 1/1 Loss: 0.3200 Test accuracy: 0.9194\n",
      "Epoch: 1/1 Loss: 0.3597 Test accuracy: 0.9047\n",
      "Epoch: 1/1 Loss: 0.2885 Test accuracy: 0.9182\n",
      "Epoch: 1/1 Loss: 0.2637 Test accuracy: 0.9193\n",
      "Epoch: 1/1 Loss: 0.2436 Test accuracy: 0.9163\n",
      "Epoch: 1/1 Loss: 0.3030 Test accuracy: 0.9256\n",
      "Epoch: 1/1 Loss: 0.2765 Test accuracy: 0.9228\n",
      "Epoch: 1/1 Loss: 0.2619 Test accuracy: 0.9233\n",
      "Epoch: 1/1 Loss: 0.2575 Test accuracy: 0.9250\n",
      "Epoch: 1/1 Loss: 0.2707 Test accuracy: 0.9289\n",
      "Epoch: 1/1 Loss: 0.2977 Test accuracy: 0.9165\n",
      "Epoch: 1/1 Loss: 0.2683 Test accuracy: 0.9330\n",
      "Epoch: 1/1 Loss: 0.2290 Test accuracy: 0.9247\n",
      "Epoch: 1/1 Loss: 0.2356 Test accuracy: 0.9346\n",
      "Epoch: 1/1 Loss: 0.2201 Test accuracy: 0.9353\n",
      "Epoch: 1/1 Loss: 0.2187 Test accuracy: 0.9269\n",
      "Epoch: 1/1 Loss: 0.2611 Test accuracy: 0.9191\n",
      "Epoch: 1/1 Loss: 0.2439 Test accuracy: 0.9352\n",
      "Epoch: 1/1 Loss: 0.2845 Test accuracy: 0.9302\n",
      "Epoch: 1/1 Loss: 0.2365 Test accuracy: 0.9390\n",
      "Epoch: 1/1 Loss: 0.2759 Test accuracy: 0.9352\n",
      "Epoch: 1/1 Loss: 0.2156 Test accuracy: 0.9280\n",
      "Epoch: 1/1 Loss: 0.2040 Test accuracy: 0.9407\n",
      "Epoch: 1/1 Loss: 0.2085 Test accuracy: 0.9377\n"
     ]
    }
   ],
   "source": [
    "epochs = 1 # 训练的次数 比如定3 则将整个数据集过三次\n",
    "steps = 0\n",
    "running_loss = 0\n",
    "print_every = 20\n",
    "# 将上面一次前向计算和反向传播 包装在for循环中\n",
    "for e in range(epochs):\n",
    "    for images, labels in iter(trainloader):\n",
    "        steps += 1\n",
    "        # Flatten MNIST images into a 784 long vector\n",
    "        images.resize_(images.size()[0], 784)\n",
    "        \n",
    "        # Wrap images and labels in Variables so we can calculate gradients\n",
    "        inputs = Variable(images)\n",
    "        targets = Variable(labels)\n",
    "        optimizer.zero_grad()\n",
    "        \n",
    "        output = net.forward(inputs)\n",
    "        loss = criterion(output, targets)\n",
    "        loss.backward()\n",
    "        optimizer.step()\n",
    "        \n",
    "        # 这一句也可以写成running_loss += loss.item() 因为这里loss是一个标量张量\n",
    "        # 而不是简单的数字！要么用索引 要么用items方法\n",
    "        running_loss += loss.data[0]\n",
    "        \n",
    "        # 输出训练损失\n",
    "        if steps % print_every == 0:\n",
    "            # Test accuracy\n",
    "            accuracy = 0\n",
    "            for ii, (images, labels) in enumerate(testloader):\n",
    "                \n",
    "                images = images.resize_(images.size()[0], 784)\n",
    "                inputs = Variable(images, volatile=True)\n",
    "                \n",
    "                predicted = net.predict(inputs).data\n",
    "                equality = (labels == predicted.max(1)[1])\n",
    "                accuracy += equality.type_as(torch.FloatTensor()).mean()\n",
    "            \n",
    "            print(\"Epoch: {}/{}\".format(e+1, epochs),\n",
    "                  \"Loss: {:.4f}\".format(running_loss/print_every),\n",
    "                  \"Test accuracy: {:.4f}\".format(accuracy/(ii+1)))\n",
    "            running_loss = 0"
   ]
  },
  {
   "cell_type": "code",
   "execution_count": 15,
   "metadata": {},
   "outputs": [],
   "source": [
    "dataiter = iter(testloader)\n",
    "images, labels = dataiter.next()"
   ]
  },
  {
   "cell_type": "code",
   "execution_count": 16,
   "metadata": {},
   "outputs": [
    {
     "data": {
      "image/png": "[encoded data removed]",
      "text/plain": [
       "<matplotlib.figure.Figure at 0x7f1640e88780>"
      ]
     },
     "metadata": {
      "image/png": {
       "height": 224,
       "width": 423
      },
      "needs_background": "light"
     },
     "output_type": "display_data"
    }
   ],
   "source": [
    "img = images[2]\n",
    "ps = net.predict(Variable(img.resize_(1, 784)))\n",
    "helper.view_classify(img.resize_(1, 28, 28), ps)"
   ]
  },
  {
   "cell_type": "markdown",
   "metadata": {},
   "source": [
    "我们的网络现在并不是一无所知了。它可以准确地预测图像中的数字。接着，你将编写用更复杂的数据集训练神经网络的代码。"
   ]
  }
 ],
 "metadata": {
  "kernelspec": {
   "display_name": "Python 3",
   "language": "python",
   "name": "python3"
  },
  "language_info": {
   "codemirror_mode": {
    "name": "ipython",
    "version": 3
   },
   "file_extension": ".py",
   "mimetype": "text/x-python",
   "name": "python",
   "nbconvert_exporter": "python",
   "pygments_lexer": "ipython3",
   "version": "3.6.3"
  }
 },
 "nbformat": 4,
 "nbformat_minor": 2
}
