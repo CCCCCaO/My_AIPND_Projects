{
 "cells": [
  {
   "cell_type": "markdown",
   "metadata": {},
   "source": [
    "# 分类 Fashion-MNIST 数据集\n",
    "\n",
    "现在轮到你来构建一个神经网络了。你将使用的是 [Fashion-MNIST 数据集](https://github.com/zalandoresearch/fashion-mnist)，这是 MNIST 数据集的替代品。对于神经网络而言，原始的 MNIST 数据集体量太小，因而你可以轻易达到 97% 以上的准确率。而 Fashion-MNIST 数据集是一组有关衣物的 28x28 灰阶图像。这个数据集比 MNIST 复杂得多，因此你能更好地判断神经网络的性能，它也更加接近你在现实世界中使用的数据集。\n",
    "\n",
    "<img src='assets/fashion-mnist-sprite.png' width=500px>\n",
    "\n",
    "在这个 notebook 中，你将构建专属于你的神经网络。在大多数情况下，你可以直接复制粘贴第三部分的代码，但这样一来你很难学到知识。因此我们推荐你自己编写代码来运行程序，这十分重要。不过在完成这个任务时，你也可以随时查阅和参考之前的 notebook。\n",
    "\n",
    "首先，我们通过 torchvision 来加载数据集。"
   ]
  },
  {
   "cell_type": "code",
   "execution_count": 1,
   "metadata": {},
   "outputs": [],
   "source": [
    "import torch\n",
    "from torchvision import datasets, transforms\n",
    "import helper\n",
    "\n",
    "# Define a transform to normalize the data\n",
    "transform = transforms.Compose([transforms.ToTensor(),\n",
    "                                transforms.Normalize((0.5, 0.5, 0.5), (0.5, 0.5, 0.5))])\n",
    "# Download and load the training data\n",
    "trainset = datasets.FashionMNIST('F_MNIST_data/', download=True, train=True, transform=transform)\n",
    "trainloader = torch.utils.data.DataLoader(trainset, batch_size=64, shuffle=True)\n",
    "\n",
    "# Download and load the test data\n",
    "testset = datasets.FashionMNIST('F_MNIST_data/', download=True, train=False, transform=transform)\n",
    "testloader = torch.utils.data.DataLoader(testset, batch_size=64, shuffle=True)"
   ]
  },
  {
   "cell_type": "markdown",
   "metadata": {},
   "source": [
    "在这里，我们能看到其中一张图片。"
   ]
  },
  {
   "cell_type": "code",
   "execution_count": 2,
   "metadata": {},
   "outputs": [
    {
     "data": {
      "image/png": "[encoded data removed]",
      "text/plain": [
       "<matplotlib.figure.Figure at 0x7f656c3836a0>"
      ]
     },
     "metadata": {
      "needs_background": "light"
     },
     "output_type": "display_data"
    }
   ],
   "source": [
    "image, label = next(iter(trainloader))\n",
    "helper.imshow(image[0,:]);"
   ]
  },
  {
   "cell_type": "markdown",
   "metadata": {},
   "source": [
    "在加载数据之后，我们应该导入一些必要的包了。"
   ]
  },
  {
   "cell_type": "code",
   "execution_count": 3,
   "metadata": {},
   "outputs": [],
   "source": [
    "%matplotlib inline\n",
    "%config InlineBackend.figure_format = 'retina'\n",
    "\n",
    "import matplotlib.pyplot as plt\n",
    "import numpy as np\n",
    "import time\n",
    "\n",
    "import torch\n",
    "from torch import nn\n",
    "from torch import optim\n",
    "import torch.nn.functional as F\n",
    "from torch.autograd import Variable\n",
    "from torchvision import datasets, transforms\n",
    "\n",
    "import helper"
   ]
  },
  {
   "cell_type": "markdown",
   "metadata": {},
   "source": [
    "## 构建网络\n",
    "\n",
    "在这里，你应该定义你的网络。如同 MNIST 数据集一样，这里的每张图片的像素为 28x28，共有 784 个像素点和 10 个类。你至少需要添加一个隐藏层。对于这些层，我们推荐你使用 ReLU 激活函数，并通过前向传播来返回 logits。层的数量和大小都由你来决定。"
   ]
  },
  {
   "cell_type": "code",
   "execution_count": 23,
   "metadata": {},
   "outputs": [],
   "source": [
    "# DONE: Define your network architecture here\n",
    "class Network(nn.Module):\n",
    "    '''\n",
    "    创建一个名为Network的类 即是神经网络类 其基类是nn.Module\n",
    "    '''\n",
    "    def __init__(self):\n",
    "        super().__init__()\n",
    "        # 定义各层 输入层为784个节点 输出层为10个节点 这里我自己定3个隐藏层\n",
    "        self.fc1 = nn.Linear(784, 300)\n",
    "        self.fc2 = nn.Linear(300, 100)\n",
    "        self.fc3 = nn.Linear(100, 20)\n",
    "        self.fc4 = nn.Linear(20, 10)\n",
    "\n",
    "    \n",
    "    def forward(self, x):\n",
    "        '''\n",
    "        前向传播函数 注意这里是到最终的输出层 还没有经过softmax()函数转化成概率分布！\n",
    "        '''\n",
    "        x = self.fc1(x)\n",
    "        x = F.relu(x)\n",
    "        x = self.fc2(x)\n",
    "        x = F.relu(x)\n",
    "        x = self.fc3(x)\n",
    "        x = F.relu(x)\n",
    "        x = self.fc4(x)\n",
    "        return x\n",
    "        \n",
    "    def predict(self, x):\n",
    "        '''\n",
    "        使用forward()前向传播方法 来得到最终输出层的结果\n",
    "        将输出层结果经过softmax()函数 得到概率分布 即预测值\n",
    "        '''\n",
    "        logits = self.forward(x)\n",
    "        return F.softmax(logits, dim=1)"
   ]
  },
  {
   "cell_type": "markdown",
   "metadata": {},
   "source": [
    "# 训练网络\n",
    "\n",
    "现在，你应该构建你的网络并训练它了。首先，你需要定义[条件](http://pytorch.org/docs/master/nn.html#loss-functions)（比如 `nn.CrossEntropyLoss`）以及[优化器](http://pytorch.org/docs/master/optim.html)（比如 `optim.SGD` 或 `optim.Adam`）。\n",
    "\n",
    "接着，你需要编写训练代码。请记住，训练传播是一个十分简明的过程：\n",
    "\n",
    "* 在网络中进行前向传播来获取 logits \n",
    "* 使用 logits 来计算损失\n",
    "* 使用 `loss.backward()` 在网络中进行后向传播来计算梯度\n",
    "* 使用优化器执行一个学习步来更新权重\n",
    "\n",
    "通过调整超参数（隐藏单元、学习速率等），你应该可以将训练损失控制在 0.4 以下。"
   ]
  },
  {
   "cell_type": "code",
   "execution_count": 24,
   "metadata": {},
   "outputs": [
    {
     "data": {
      "text/plain": [
       "Network(\n",
       "  (fc1): Linear(in_features=784, out_features=300, bias=True)\n",
       "  (fc2): Linear(in_features=300, out_features=100, bias=True)\n",
       "  (fc3): Linear(in_features=100, out_features=20, bias=True)\n",
       "  (fc4): Linear(in_features=20, out_features=10, bias=True)\n",
       ")"
      ]
     },
     "execution_count": 24,
     "metadata": {},
     "output_type": "execute_result"
    }
   ],
   "source": [
    "# DONE: Create the network, define the criterion and optimizer\n",
    "# 创建Network类的实例net\n",
    "net = Network()\n",
    "# 创建损失函数 使用交叉熵\n",
    "criterion = nn.CrossEntropyLoss()\n",
    "# 创建优化器 这里尝试Adam\n",
    "optimizer = optim.Adam(net.parameters(), lr=0.001)\n",
    "net"
   ]
  },
  {
   "cell_type": "code",
   "execution_count": 26,
   "metadata": {},
   "outputs": [
    {
     "name": "stderr",
     "output_type": "stream",
     "text": [
      "/opt/conda/lib/python3.6/site-packages/ipykernel_launcher.py:27: UserWarning: invalid index of a 0-dim tensor. This will be an error in PyTorch 0.5. Use tensor.item() to convert a 0-dim tensor to a Python number\n",
      "/opt/conda/lib/python3.6/site-packages/ipykernel_launcher.py:36: UserWarning: volatile was removed and now has no effect. Use `with torch.no_grad():` instead.\n"
     ]
    },
    {
     "name": "stdout",
     "output_type": "stream",
     "text": [
      "Epoch: 1/1 Loss: 0.5687 Test accuracy: 0.7845\n",
      "Epoch: 1/1 Loss: 0.5251 Test accuracy: 0.7924\n",
      "Epoch: 1/1 Loss: 0.5627 Test accuracy: 0.8043\n",
      "Epoch: 1/1 Loss: 0.5018 Test accuracy: 0.8006\n",
      "Epoch: 1/1 Loss: 0.5251 Test accuracy: 0.8009\n",
      "Epoch: 1/1 Loss: 0.5398 Test accuracy: 0.8070\n",
      "Epoch: 1/1 Loss: 0.5016 Test accuracy: 0.7980\n",
      "Epoch: 1/1 Loss: 0.4880 Test accuracy: 0.8109\n",
      "Epoch: 1/1 Loss: 0.5434 Test accuracy: 0.8185\n",
      "Epoch: 1/1 Loss: 0.4959 Test accuracy: 0.8235\n",
      "Epoch: 1/1 Loss: 0.5033 Test accuracy: 0.8120\n",
      "Epoch: 1/1 Loss: 0.4244 Test accuracy: 0.8172\n",
      "Epoch: 1/1 Loss: 0.4764 Test accuracy: 0.8048\n",
      "Epoch: 1/1 Loss: 0.4830 Test accuracy: 0.8322\n",
      "Epoch: 1/1 Loss: 0.4575 Test accuracy: 0.8211\n",
      "Epoch: 1/1 Loss: 0.4383 Test accuracy: 0.8152\n",
      "Epoch: 1/1 Loss: 0.5068 Test accuracy: 0.8102\n",
      "Epoch: 1/1 Loss: 0.4449 Test accuracy: 0.8289\n",
      "Epoch: 1/1 Loss: 0.4469 Test accuracy: 0.8351\n",
      "Epoch: 1/1 Loss: 0.4237 Test accuracy: 0.8343\n",
      "Epoch: 1/1 Loss: 0.4315 Test accuracy: 0.8133\n",
      "Epoch: 1/1 Loss: 0.4571 Test accuracy: 0.8322\n",
      "Epoch: 1/1 Loss: 0.4696 Test accuracy: 0.8251\n",
      "Epoch: 1/1 Loss: 0.4455 Test accuracy: 0.8304\n",
      "Epoch: 1/1 Loss: 0.4328 Test accuracy: 0.8331\n",
      "Epoch: 1/1 Loss: 0.4100 Test accuracy: 0.8297\n",
      "Epoch: 1/1 Loss: 0.4322 Test accuracy: 0.8185\n",
      "Epoch: 1/1 Loss: 0.4629 Test accuracy: 0.8344\n",
      "Epoch: 1/1 Loss: 0.4478 Test accuracy: 0.8409\n",
      "Epoch: 1/1 Loss: 0.3766 Test accuracy: 0.8425\n",
      "Epoch: 1/1 Loss: 0.3977 Test accuracy: 0.8407\n",
      "Epoch: 1/1 Loss: 0.4252 Test accuracy: 0.8374\n",
      "Epoch: 1/1 Loss: 0.4167 Test accuracy: 0.8459\n",
      "Epoch: 1/1 Loss: 0.3958 Test accuracy: 0.8471\n",
      "Epoch: 1/1 Loss: 0.3981 Test accuracy: 0.8376\n",
      "Epoch: 1/1 Loss: 0.4356 Test accuracy: 0.8386\n",
      "Epoch: 1/1 Loss: 0.4476 Test accuracy: 0.8272\n",
      "Epoch: 1/1 Loss: 0.4242 Test accuracy: 0.8425\n",
      "Epoch: 1/1 Loss: 0.4647 Test accuracy: 0.8449\n",
      "Epoch: 1/1 Loss: 0.4170 Test accuracy: 0.8315\n",
      "Epoch: 1/1 Loss: 0.4076 Test accuracy: 0.8481\n",
      "Epoch: 1/1 Loss: 0.3649 Test accuracy: 0.8416\n",
      "Epoch: 1/1 Loss: 0.3926 Test accuracy: 0.8476\n",
      "Epoch: 1/1 Loss: 0.3811 Test accuracy: 0.8413\n",
      "Epoch: 1/1 Loss: 0.3940 Test accuracy: 0.8388\n",
      "Epoch: 1/1 Loss: 0.4034 Test accuracy: 0.8472\n"
     ]
    }
   ],
   "source": [
    "epochs = 1 # 训练的次数\n",
    "steps = 0\n",
    "running_loss = 0\n",
    "print_every = 20\n",
    "# 迭代训练\n",
    "for e in range(epochs):\n",
    "    for images, labels in iter(trainloader):\n",
    "        steps += 1\n",
    "        # 数据处理\n",
    "        images.resize_(images.size()[0], 784)\n",
    "        inputs = Variable(images)\n",
    "        targets = Variable(labels)\n",
    "        \n",
    "        # 梯度清零\n",
    "        optimizer.zero_grad()\n",
    "        \n",
    "        # 前向传播 并计算损失\n",
    "        output = net.forward(inputs)\n",
    "        loss = criterion(output, targets)\n",
    "        \n",
    "        # 反向传播 并更新权重\n",
    "        loss.backward()\n",
    "        optimizer.step()\n",
    "        \n",
    "        # 这一句也可以写成running_loss += loss.item() 因为这里loss是一个标量张量\n",
    "        # 而不是简单的数字！要么用索引 要么用items方法\n",
    "        running_loss += loss.data[0]\n",
    "        \n",
    "        # 输出训练损失\n",
    "        if steps % print_every == 0:\n",
    "            # 测试准确性\n",
    "            accuracy = 0\n",
    "            for ii, (images, labels) in enumerate(testloader):\n",
    "                \n",
    "                images = images.resize_(images.size()[0], 784)\n",
    "                inputs = Variable(images, volatile=True)\n",
    "                \n",
    "                predicted = net.predict(inputs).data\n",
    "                equality = (labels == predicted.max(1)[1])\n",
    "                accuracy += equality.type_as(torch.FloatTensor()).mean()\n",
    "            \n",
    "            print(\"Epoch: {}/{}\".format(e+1, epochs),\n",
    "                  \"Loss: {:.4f}\".format(running_loss/print_every),\n",
    "                  \"Test accuracy: {:.4f}\".format(accuracy/(ii+1)))\n",
    "            running_loss = 0\n",
    "# 这里训练Loss大概在0.4附近 不是特别好 还有待改进！"
   ]
  },
  {
   "cell_type": "code",
   "execution_count": 27,
   "metadata": {},
   "outputs": [
    {
     "data": {
      "image/png": "[encoded data removed]",
      "text/plain": [
       "<matplotlib.figure.Figure at 0x7f6519696860>"
      ]
     },
     "metadata": {
      "image/png": {
       "height": 224,
       "width": 423
      },
      "needs_background": "light"
     },
     "output_type": "display_data"
    }
   ],
   "source": [
    "# Test out your network!\n",
    "\n",
    "dataiter = iter(testloader)\n",
    "images, labels = dataiter.next()\n",
    "img = images[0]\n",
    "# Convert 2D image to 1D vector\n",
    "img = img.resize_(1, 784)\n",
    "\n",
    "# TODO: Calculate the class probabilities (softmax) for img\n",
    "ps = net.predict(Variable(img.resize_(1, 784)))\n",
    "\n",
    "# Plot the image and probabilities\n",
    "helper.view_classify(img.resize_(1, 28, 28), ps)"
   ]
  },
  {
   "cell_type": "markdown",
   "metadata": {},
   "source": [
    "训练好神经网络之后，你应该希望保存这个网络以便下次加载，而不是重新训练。很明显，每次使用时都重新训练网络并不现实。在实际操作中，你将会在训练网络之后将模型保存，接着重新加载网络以进行训练或是预测。在下一部分，我将为你展示如何保存和加载训练好的模型。"
   ]
  }
 ],
 "metadata": {
  "kernelspec": {
   "display_name": "Python 3",
   "language": "python",
   "name": "python3"
  },
  "language_info": {
   "codemirror_mode": {
    "name": "ipython",
    "version": 3
   },
   "file_extension": ".py",
   "mimetype": "text/x-python",
   "name": "python",
   "nbconvert_exporter": "python",
   "pygments_lexer": "ipython3",
   "version": "3.6.3"
  }
 },
 "nbformat": 4,
 "nbformat_minor": 2
}
